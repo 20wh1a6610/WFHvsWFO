{
  "cells": [
    {
      "cell_type": "code",
      "execution_count": 1,
      "metadata": {
        "colab": {
          "base_uri": "https://localhost:8080/"
        },
        "id": "6_w9VQxbkCd0",
        "outputId": "fd915e9a-fecf-485e-b25e-f8e428d7e0f7"
      },
      "outputs": [
        {
          "output_type": "stream",
          "name": "stdout",
          "text": [
            "Looking in indexes: https://pypi.org/simple, https://us-python.pkg.dev/colab-wheels/public/simple/\n",
            "Collecting gradio\n",
            "  Downloading gradio-3.27.0-py3-none-any.whl (17.3 MB)\n",
            "\u001b[2K     \u001b[90m━━━━━━━━━━━━━━━━━━━━━━━━━━━━━━━━━━━━━━━━\u001b[0m \u001b[32m17.3/17.3 MB\u001b[0m \u001b[31m64.8 MB/s\u001b[0m eta \u001b[36m0:00:00\u001b[0m\n",
            "\u001b[?25hRequirement already satisfied: altair>=4.2.0 in /usr/local/lib/python3.9/dist-packages (from gradio) (4.2.2)\n",
            "Requirement already satisfied: numpy in /usr/local/lib/python3.9/dist-packages (from gradio) (1.22.4)\n",
            "Requirement already satisfied: matplotlib in /usr/local/lib/python3.9/dist-packages (from gradio) (3.7.1)\n",
            "Requirement already satisfied: pillow in /usr/local/lib/python3.9/dist-packages (from gradio) (8.4.0)\n",
            "Collecting websockets>=10.0\n",
            "  Downloading websockets-11.0.2-cp39-cp39-manylinux_2_5_x86_64.manylinux1_x86_64.manylinux_2_17_x86_64.manylinux2014_x86_64.whl (129 kB)\n",
            "\u001b[2K     \u001b[90m━━━━━━━━━━━━━━━━━━━━━━━━━━━━━━━━━━━━━━\u001b[0m \u001b[32m129.7/129.7 kB\u001b[0m \u001b[31m16.3 MB/s\u001b[0m eta \u001b[36m0:00:00\u001b[0m\n",
            "\u001b[?25hRequirement already satisfied: markdown-it-py[linkify]>=2.0.0 in /usr/local/lib/python3.9/dist-packages (from gradio) (2.2.0)\n",
            "Collecting pydub\n",
            "  Downloading pydub-0.25.1-py2.py3-none-any.whl (32 kB)\n",
            "Collecting python-multipart\n",
            "  Downloading python_multipart-0.0.6-py3-none-any.whl (45 kB)\n",
            "\u001b[2K     \u001b[90m━━━━━━━━━━━━━━━━━━━━━━━━━━━━━━━━━━━━━━━━\u001b[0m \u001b[32m45.7/45.7 kB\u001b[0m \u001b[31m5.7 MB/s\u001b[0m eta \u001b[36m0:00:00\u001b[0m\n",
            "\u001b[?25hRequirement already satisfied: pandas in /usr/local/lib/python3.9/dist-packages (from gradio) (1.5.3)\n",
            "Requirement already satisfied: pydantic in /usr/local/lib/python3.9/dist-packages (from gradio) (1.10.7)\n",
            "Collecting httpx\n",
            "  Downloading httpx-0.24.0-py3-none-any.whl (75 kB)\n",
            "\u001b[2K     \u001b[90m━━━━━━━━━━━━━━━━━━━━━━━━━━━━━━━━━━━━━━━━\u001b[0m \u001b[32m75.3/75.3 kB\u001b[0m \u001b[31m9.5 MB/s\u001b[0m eta \u001b[36m0:00:00\u001b[0m\n",
            "\u001b[?25hRequirement already satisfied: jinja2 in /usr/local/lib/python3.9/dist-packages (from gradio) (3.1.2)\n",
            "Requirement already satisfied: typing-extensions in /usr/local/lib/python3.9/dist-packages (from gradio) (4.5.0)\n",
            "Collecting ffmpy\n",
            "  Downloading ffmpy-0.3.0.tar.gz (4.8 kB)\n",
            "  Preparing metadata (setup.py) ... \u001b[?25l\u001b[?25hdone\n",
            "Requirement already satisfied: markupsafe in /usr/local/lib/python3.9/dist-packages (from gradio) (2.1.2)\n",
            "Collecting uvicorn\n",
            "  Downloading uvicorn-0.21.1-py3-none-any.whl (57 kB)\n",
            "\u001b[2K     \u001b[90m━━━━━━━━━━━━━━━━━━━━━━━━━━━━━━━━━━━━━━━━\u001b[0m \u001b[32m57.8/57.8 kB\u001b[0m \u001b[31m7.9 MB/s\u001b[0m eta \u001b[36m0:00:00\u001b[0m\n",
            "\u001b[?25hCollecting semantic-version\n",
            "  Downloading semantic_version-2.10.0-py2.py3-none-any.whl (15 kB)\n",
            "Collecting mdit-py-plugins<=0.3.3\n",
            "  Downloading mdit_py_plugins-0.3.3-py3-none-any.whl (50 kB)\n",
            "\u001b[2K     \u001b[90m━━━━━━━━━━━━━━━━━━━━━━━━━━━━━━━━━━━━━━━━\u001b[0m \u001b[32m50.5/50.5 kB\u001b[0m \u001b[31m6.7 MB/s\u001b[0m eta \u001b[36m0:00:00\u001b[0m\n",
            "\u001b[?25hCollecting huggingface-hub>=0.13.0\n",
            "  Downloading huggingface_hub-0.13.4-py3-none-any.whl (200 kB)\n",
            "\u001b[2K     \u001b[90m━━━━━━━━━━━━━━━━━━━━━━━━━━━━━━━━━━━━━━\u001b[0m \u001b[32m200.1/200.1 kB\u001b[0m \u001b[31m23.0 MB/s\u001b[0m eta \u001b[36m0:00:00\u001b[0m\n",
            "\u001b[?25hCollecting orjson\n",
            "  Downloading orjson-3.8.10-cp39-cp39-manylinux_2_28_x86_64.whl (140 kB)\n",
            "\u001b[2K     \u001b[90m━━━━━━━━━━━━━━━━━━━━━━━━━━━━━━━━━━━━━━\u001b[0m \u001b[32m140.5/140.5 kB\u001b[0m \u001b[31m16.7 MB/s\u001b[0m eta \u001b[36m0:00:00\u001b[0m\n",
            "\u001b[?25hCollecting fastapi\n",
            "  Downloading fastapi-0.95.1-py3-none-any.whl (56 kB)\n",
            "\u001b[2K     \u001b[90m━━━━━━━━━━━━━━━━━━━━━━━━━━━━━━━━━━━━━━━━\u001b[0m \u001b[32m57.0/57.0 kB\u001b[0m \u001b[31m8.3 MB/s\u001b[0m eta \u001b[36m0:00:00\u001b[0m\n",
            "\u001b[?25hCollecting aiofiles\n",
            "  Downloading aiofiles-23.1.0-py3-none-any.whl (14 kB)\n",
            "Collecting gradio-client>=0.1.3\n",
            "  Downloading gradio_client-0.1.3-py3-none-any.whl (286 kB)\n",
            "\u001b[2K     \u001b[90m━━━━━━━━━━━━━━━━━━━━━━━━━━━━━━━━━━━━━━\u001b[0m \u001b[32m286.2/286.2 kB\u001b[0m \u001b[31m30.1 MB/s\u001b[0m eta \u001b[36m0:00:00\u001b[0m\n",
            "\u001b[?25hRequirement already satisfied: pyyaml in /usr/local/lib/python3.9/dist-packages (from gradio) (6.0)\n",
            "Requirement already satisfied: requests in /usr/local/lib/python3.9/dist-packages (from gradio) (2.27.1)\n",
            "Collecting aiohttp\n",
            "  Downloading aiohttp-3.8.4-cp39-cp39-manylinux_2_17_x86_64.manylinux2014_x86_64.whl (1.0 MB)\n",
            "\u001b[2K     \u001b[90m━━━━━━━━━━━━━━━━━━━━━━━━━━━━━━━━━━━━━━━━\u001b[0m \u001b[32m1.0/1.0 MB\u001b[0m \u001b[31m59.1 MB/s\u001b[0m eta \u001b[36m0:00:00\u001b[0m\n",
            "\u001b[?25hRequirement already satisfied: entrypoints in /usr/local/lib/python3.9/dist-packages (from altair>=4.2.0->gradio) (0.4)\n",
            "Requirement already satisfied: jsonschema>=3.0 in /usr/local/lib/python3.9/dist-packages (from altair>=4.2.0->gradio) (4.3.3)\n",
            "Requirement already satisfied: toolz in /usr/local/lib/python3.9/dist-packages (from altair>=4.2.0->gradio) (0.12.0)\n",
            "Requirement already satisfied: fsspec in /usr/local/lib/python3.9/dist-packages (from gradio-client>=0.1.3->gradio) (2023.4.0)\n",
            "Requirement already satisfied: packaging in /usr/local/lib/python3.9/dist-packages (from gradio-client>=0.1.3->gradio) (23.0)\n",
            "Requirement already satisfied: tqdm>=4.42.1 in /usr/local/lib/python3.9/dist-packages (from huggingface-hub>=0.13.0->gradio) (4.65.0)\n",
            "Requirement already satisfied: filelock in /usr/local/lib/python3.9/dist-packages (from huggingface-hub>=0.13.0->gradio) (3.11.0)\n",
            "Requirement already satisfied: mdurl~=0.1 in /usr/local/lib/python3.9/dist-packages (from markdown-it-py[linkify]>=2.0.0->gradio) (0.1.2)\n",
            "Collecting linkify-it-py<3,>=1\n",
            "  Downloading linkify_it_py-2.0.0-py3-none-any.whl (19 kB)\n",
            "Requirement already satisfied: pytz>=2020.1 in /usr/local/lib/python3.9/dist-packages (from pandas->gradio) (2022.7.1)\n",
            "Requirement already satisfied: python-dateutil>=2.8.1 in /usr/local/lib/python3.9/dist-packages (from pandas->gradio) (2.8.2)\n",
            "Collecting yarl<2.0,>=1.0\n",
            "  Downloading yarl-1.8.2-cp39-cp39-manylinux_2_17_x86_64.manylinux2014_x86_64.whl (264 kB)\n",
            "\u001b[2K     \u001b[90m━━━━━━━━━━━━━━━━━━━━━━━━━━━━━━━━━━━━━━\u001b[0m \u001b[32m264.6/264.6 kB\u001b[0m \u001b[31m28.8 MB/s\u001b[0m eta \u001b[36m0:00:00\u001b[0m\n",
            "\u001b[?25hCollecting multidict<7.0,>=4.5\n",
            "  Downloading multidict-6.0.4-cp39-cp39-manylinux_2_17_x86_64.manylinux2014_x86_64.whl (114 kB)\n",
            "\u001b[2K     \u001b[90m━━━━━━━━━━━━━━━━━━━━━━━━━━━━━━━━━━━━━━\u001b[0m \u001b[32m114.2/114.2 kB\u001b[0m \u001b[31m14.3 MB/s\u001b[0m eta \u001b[36m0:00:00\u001b[0m\n",
            "\u001b[?25hCollecting aiosignal>=1.1.2\n",
            "  Downloading aiosignal-1.3.1-py3-none-any.whl (7.6 kB)\n",
            "Requirement already satisfied: attrs>=17.3.0 in /usr/local/lib/python3.9/dist-packages (from aiohttp->gradio) (22.2.0)\n",
            "Collecting async-timeout<5.0,>=4.0.0a3\n",
            "  Downloading async_timeout-4.0.2-py3-none-any.whl (5.8 kB)\n",
            "Collecting frozenlist>=1.1.1\n",
            "  Downloading frozenlist-1.3.3-cp39-cp39-manylinux_2_5_x86_64.manylinux1_x86_64.manylinux_2_17_x86_64.manylinux2014_x86_64.whl (158 kB)\n",
            "\u001b[2K     \u001b[90m━━━━━━━━━━━━━━━━━━━━━━━━━━━━━━━━━━━━━━\u001b[0m \u001b[32m158.8/158.8 kB\u001b[0m \u001b[31m17.7 MB/s\u001b[0m eta \u001b[36m0:00:00\u001b[0m\n",
            "\u001b[?25hRequirement already satisfied: charset-normalizer<4.0,>=2.0 in /usr/local/lib/python3.9/dist-packages (from aiohttp->gradio) (2.0.12)\n",
            "Collecting starlette<0.27.0,>=0.26.1\n",
            "  Downloading starlette-0.26.1-py3-none-any.whl (66 kB)\n",
            "\u001b[2K     \u001b[90m━━━━━━━━━━━━━━━━━━━━━━━━━━━━━━━━━━━━━━━━\u001b[0m \u001b[32m66.9/66.9 kB\u001b[0m \u001b[31m8.4 MB/s\u001b[0m eta \u001b[36m0:00:00\u001b[0m\n",
            "\u001b[?25hRequirement already satisfied: certifi in /usr/local/lib/python3.9/dist-packages (from httpx->gradio) (2022.12.7)\n",
            "Collecting httpcore<0.18.0,>=0.15.0\n",
            "  Downloading httpcore-0.17.0-py3-none-any.whl (70 kB)\n",
            "\u001b[2K     \u001b[90m━━━━━━━━━━━━━━━━━━━━━━━━━━━━━━━━━━━━━━━━\u001b[0m \u001b[32m70.6/70.6 kB\u001b[0m \u001b[31m9.4 MB/s\u001b[0m eta \u001b[36m0:00:00\u001b[0m\n",
            "\u001b[?25hRequirement already satisfied: sniffio in /usr/local/lib/python3.9/dist-packages (from httpx->gradio) (1.3.0)\n",
            "Requirement already satisfied: idna in /usr/local/lib/python3.9/dist-packages (from httpx->gradio) (3.4)\n",
            "Requirement already satisfied: pyparsing>=2.3.1 in /usr/local/lib/python3.9/dist-packages (from matplotlib->gradio) (3.0.9)\n",
            "Requirement already satisfied: importlib-resources>=3.2.0 in /usr/local/lib/python3.9/dist-packages (from matplotlib->gradio) (5.12.0)\n",
            "Requirement already satisfied: contourpy>=1.0.1 in /usr/local/lib/python3.9/dist-packages (from matplotlib->gradio) (1.0.7)\n",
            "Requirement already satisfied: fonttools>=4.22.0 in /usr/local/lib/python3.9/dist-packages (from matplotlib->gradio) (4.39.3)\n",
            "Requirement already satisfied: kiwisolver>=1.0.1 in /usr/local/lib/python3.9/dist-packages (from matplotlib->gradio) (1.4.4)\n",
            "Requirement already satisfied: cycler>=0.10 in /usr/local/lib/python3.9/dist-packages (from matplotlib->gradio) (0.11.0)\n",
            "Requirement already satisfied: urllib3<1.27,>=1.21.1 in /usr/local/lib/python3.9/dist-packages (from requests->gradio) (1.26.15)\n",
            "Collecting h11>=0.8\n",
            "  Downloading h11-0.14.0-py3-none-any.whl (58 kB)\n",
            "\u001b[2K     \u001b[90m━━━━━━━━━━━━━━━━━━━━━━━━━━━━━━━━━━━━━━━━\u001b[0m \u001b[32m58.3/58.3 kB\u001b[0m \u001b[31m7.6 MB/s\u001b[0m eta \u001b[36m0:00:00\u001b[0m\n",
            "\u001b[?25hRequirement already satisfied: click>=7.0 in /usr/local/lib/python3.9/dist-packages (from uvicorn->gradio) (8.1.3)\n",
            "Requirement already satisfied: anyio<5.0,>=3.0 in /usr/local/lib/python3.9/dist-packages (from httpcore<0.18.0,>=0.15.0->httpx->gradio) (3.6.2)\n",
            "Requirement already satisfied: zipp>=3.1.0 in /usr/local/lib/python3.9/dist-packages (from importlib-resources>=3.2.0->matplotlib->gradio) (3.15.0)\n",
            "Requirement already satisfied: pyrsistent!=0.17.0,!=0.17.1,!=0.17.2,>=0.14.0 in /usr/local/lib/python3.9/dist-packages (from jsonschema>=3.0->altair>=4.2.0->gradio) (0.19.3)\n",
            "Collecting uc-micro-py\n",
            "  Downloading uc_micro_py-1.0.1-py3-none-any.whl (6.2 kB)\n",
            "Requirement already satisfied: six>=1.5 in /usr/local/lib/python3.9/dist-packages (from python-dateutil>=2.8.1->pandas->gradio) (1.16.0)\n",
            "Building wheels for collected packages: ffmpy\n",
            "  Building wheel for ffmpy (setup.py) ... \u001b[?25l\u001b[?25hdone\n",
            "  Created wheel for ffmpy: filename=ffmpy-0.3.0-py3-none-any.whl size=4707 sha256=eeedba9fd10d695aab43837c2b196647da70365838e8a3f2d41282b660a65108\n",
            "  Stored in directory: /root/.cache/pip/wheels/91/e2/96/f676aa08bfd789328c6576cd0f1fde4a3d686703bb0c247697\n",
            "Successfully built ffmpy\n",
            "Installing collected packages: pydub, ffmpy, websockets, uc-micro-py, semantic-version, python-multipart, orjson, multidict, h11, frozenlist, async-timeout, aiofiles, yarl, uvicorn, starlette, mdit-py-plugins, linkify-it-py, huggingface-hub, httpcore, aiosignal, httpx, fastapi, aiohttp, gradio-client, gradio\n",
            "Successfully installed aiofiles-23.1.0 aiohttp-3.8.4 aiosignal-1.3.1 async-timeout-4.0.2 fastapi-0.95.1 ffmpy-0.3.0 frozenlist-1.3.3 gradio-3.27.0 gradio-client-0.1.3 h11-0.14.0 httpcore-0.17.0 httpx-0.24.0 huggingface-hub-0.13.4 linkify-it-py-2.0.0 mdit-py-plugins-0.3.3 multidict-6.0.4 orjson-3.8.10 pydub-0.25.1 python-multipart-0.0.6 semantic-version-2.10.0 starlette-0.26.1 uc-micro-py-1.0.1 uvicorn-0.21.1 websockets-11.0.2 yarl-1.8.2\n"
          ]
        }
      ],
      "source": [
        "!pip install gradio"
      ]
    },
    {
      "cell_type": "code",
      "execution_count": 2,
      "metadata": {
        "id": "fgK398L4l43Y"
      },
      "outputs": [],
      "source": [
        "import pandas as pd\n",
        "import numpy as np\n",
        "import seaborn as sns\n",
        "import matplotlib.pyplot as plt\n",
        "from sklearn import preprocessing\n",
        "from sklearn.model_selection import train_test_split\n",
        "from sklearn.metrics import accuracy_score\n",
        "from sklearn.svm import SVC"
      ]
    },
    {
      "cell_type": "code",
      "execution_count": 3,
      "metadata": {
        "colab": {
          "base_uri": "https://localhost:8080/"
        },
        "id": "NMhucdeVnsNX",
        "outputId": "393476e4-40bc-4922-fb6d-8092e048b7d7"
      },
      "outputs": [
        {
          "output_type": "stream",
          "name": "stdout",
          "text": [
            "Mounted at /content/drive\n"
          ]
        }
      ],
      "source": [
        "from google.colab import drive\n",
        "drive.mount('/content/drive')"
      ]
    },
    {
      "cell_type": "code",
      "execution_count": 4,
      "metadata": {
        "id": "5XShWeMtn6l8"
      },
      "outputs": [],
      "source": [
        "df= pd.read_csv(\"/content/WFH_WFO_dataset.csv\")"
      ]
    },
    {
      "cell_type": "code",
      "execution_count": 5,
      "metadata": {
        "colab": {
          "base_uri": "https://localhost:8080/",
          "height": 488
        },
        "id": "3GnFhH0noLhx",
        "outputId": "5f78aabc-898c-48c5-b233-2fc3e45d17e7"
      },
      "outputs": [
        {
          "output_type": "execute_result",
          "data": {
            "text/plain": [
              "      ID      Name  Age  Occupation  Gender Same_ofiice_home_location kids  \\\n",
              "0      1   Bhavana   45       Tutor  Female                       Yes  Yes   \n",
              "1      2     Harry   24       Tutor    Male                        No   No   \n",
              "2      3  Banditaa   53          HR  Female                       Yes  Yes   \n",
              "3      4    Neetha   26    Engineer  Female                       Yes   No   \n",
              "4      5       Ram   26   Recruiter    Male                       Yes   No   \n",
              "..   ...       ...  ...         ...     ...                       ...  ...   \n",
              "202  203   Nandini   32    Engineer  Female                       Yes  Yes   \n",
              "203  204      Matt   52    Business    Male                       Yes  Yes   \n",
              "204  205    Rithik   22  Marketing     Male                       Yes   No   \n",
              "205  206     Radha   25  Marketing   Female                        No  Yes   \n",
              "206  207   Anaisha   23       Tutor  Female                        No   No   \n",
              "\n",
              "    RM_save_money RM_quality_time RM_better_sleep calmer_stressed  \\\n",
              "0             Yes             Yes             Yes          CALMER   \n",
              "1              No              No              No          CALMER   \n",
              "2             Yes             Yes             Yes          CALMER   \n",
              "3             Yes             Yes              No        STRESSED   \n",
              "4              No             Yes              No        STRESSED   \n",
              "..            ...             ...             ...             ...   \n",
              "202           Yes             Yes             Yes          CALMER   \n",
              "203           Yes             Yes             Yes          CALMER   \n",
              "204           Yes             Yes              No        STRESSED   \n",
              "205           Yes              No              No        STRESSED   \n",
              "206           Yes             Yes             Yes          CALMER   \n",
              "\n",
              "     RM_professional_growth  RM_lazy  RM_productive  \\\n",
              "0                         5        1              5   \n",
              "1                         2        2              2   \n",
              "2                         3        3              4   \n",
              "3                         3        4              4   \n",
              "4                         3        3              5   \n",
              "..                      ...      ...            ...   \n",
              "202                       4        1              5   \n",
              "203                       4        4              4   \n",
              "204                       4        4              4   \n",
              "205                       5        3              5   \n",
              "206                       3        3              4   \n",
              "\n",
              "    digital_connect_sufficient  RM_better_work_life_balance  \\\n",
              "0                          Yes                            5   \n",
              "1                           No                            3   \n",
              "2                           No                            5   \n",
              "3                           No                            4   \n",
              "4                          Yes                            4   \n",
              "..                         ...                          ...   \n",
              "202                        Yes                            3   \n",
              "203                        Yes                            5   \n",
              "204                         No                            4   \n",
              "205                        Yes                            1   \n",
              "206                         No                            2   \n",
              "\n",
              "     RM_improved_skillset RM_job_opportunities  Target  \n",
              "0                       5                  Yes       1  \n",
              "1                       3                   No       1  \n",
              "2                       3                   No       1  \n",
              "3                       5                  Yes       0  \n",
              "4                       2                  Yes       1  \n",
              "..                    ...                  ...     ...  \n",
              "202                     3             Not sure       1  \n",
              "203                     3                   No       1  \n",
              "204                     3             Not sure       0  \n",
              "205                     3                   No       0  \n",
              "206                     3                   No       0  \n",
              "\n",
              "[207 rows x 19 columns]"
            ],
            "text/html": [
              "\n",
              "  <div id=\"df-841d8e60-7537-4d3b-b3e4-b49e1b4a1513\">\n",
              "    <div class=\"colab-df-container\">\n",
              "      <div>\n",
              "<style scoped>\n",
              "    .dataframe tbody tr th:only-of-type {\n",
              "        vertical-align: middle;\n",
              "    }\n",
              "\n",
              "    .dataframe tbody tr th {\n",
              "        vertical-align: top;\n",
              "    }\n",
              "\n",
              "    .dataframe thead th {\n",
              "        text-align: right;\n",
              "    }\n",
              "</style>\n",
              "<table border=\"1\" class=\"dataframe\">\n",
              "  <thead>\n",
              "    <tr style=\"text-align: right;\">\n",
              "      <th></th>\n",
              "      <th>ID</th>\n",
              "      <th>Name</th>\n",
              "      <th>Age</th>\n",
              "      <th>Occupation</th>\n",
              "      <th>Gender</th>\n",
              "      <th>Same_ofiice_home_location</th>\n",
              "      <th>kids</th>\n",
              "      <th>RM_save_money</th>\n",
              "      <th>RM_quality_time</th>\n",
              "      <th>RM_better_sleep</th>\n",
              "      <th>calmer_stressed</th>\n",
              "      <th>RM_professional_growth</th>\n",
              "      <th>RM_lazy</th>\n",
              "      <th>RM_productive</th>\n",
              "      <th>digital_connect_sufficient</th>\n",
              "      <th>RM_better_work_life_balance</th>\n",
              "      <th>RM_improved_skillset</th>\n",
              "      <th>RM_job_opportunities</th>\n",
              "      <th>Target</th>\n",
              "    </tr>\n",
              "  </thead>\n",
              "  <tbody>\n",
              "    <tr>\n",
              "      <th>0</th>\n",
              "      <td>1</td>\n",
              "      <td>Bhavana</td>\n",
              "      <td>45</td>\n",
              "      <td>Tutor</td>\n",
              "      <td>Female</td>\n",
              "      <td>Yes</td>\n",
              "      <td>Yes</td>\n",
              "      <td>Yes</td>\n",
              "      <td>Yes</td>\n",
              "      <td>Yes</td>\n",
              "      <td>CALMER</td>\n",
              "      <td>5</td>\n",
              "      <td>1</td>\n",
              "      <td>5</td>\n",
              "      <td>Yes</td>\n",
              "      <td>5</td>\n",
              "      <td>5</td>\n",
              "      <td>Yes</td>\n",
              "      <td>1</td>\n",
              "    </tr>\n",
              "    <tr>\n",
              "      <th>1</th>\n",
              "      <td>2</td>\n",
              "      <td>Harry</td>\n",
              "      <td>24</td>\n",
              "      <td>Tutor</td>\n",
              "      <td>Male</td>\n",
              "      <td>No</td>\n",
              "      <td>No</td>\n",
              "      <td>No</td>\n",
              "      <td>No</td>\n",
              "      <td>No</td>\n",
              "      <td>CALMER</td>\n",
              "      <td>2</td>\n",
              "      <td>2</td>\n",
              "      <td>2</td>\n",
              "      <td>No</td>\n",
              "      <td>3</td>\n",
              "      <td>3</td>\n",
              "      <td>No</td>\n",
              "      <td>1</td>\n",
              "    </tr>\n",
              "    <tr>\n",
              "      <th>2</th>\n",
              "      <td>3</td>\n",
              "      <td>Banditaa</td>\n",
              "      <td>53</td>\n",
              "      <td>HR</td>\n",
              "      <td>Female</td>\n",
              "      <td>Yes</td>\n",
              "      <td>Yes</td>\n",
              "      <td>Yes</td>\n",
              "      <td>Yes</td>\n",
              "      <td>Yes</td>\n",
              "      <td>CALMER</td>\n",
              "      <td>3</td>\n",
              "      <td>3</td>\n",
              "      <td>4</td>\n",
              "      <td>No</td>\n",
              "      <td>5</td>\n",
              "      <td>3</td>\n",
              "      <td>No</td>\n",
              "      <td>1</td>\n",
              "    </tr>\n",
              "    <tr>\n",
              "      <th>3</th>\n",
              "      <td>4</td>\n",
              "      <td>Neetha</td>\n",
              "      <td>26</td>\n",
              "      <td>Engineer</td>\n",
              "      <td>Female</td>\n",
              "      <td>Yes</td>\n",
              "      <td>No</td>\n",
              "      <td>Yes</td>\n",
              "      <td>Yes</td>\n",
              "      <td>No</td>\n",
              "      <td>STRESSED</td>\n",
              "      <td>3</td>\n",
              "      <td>4</td>\n",
              "      <td>4</td>\n",
              "      <td>No</td>\n",
              "      <td>4</td>\n",
              "      <td>5</td>\n",
              "      <td>Yes</td>\n",
              "      <td>0</td>\n",
              "    </tr>\n",
              "    <tr>\n",
              "      <th>4</th>\n",
              "      <td>5</td>\n",
              "      <td>Ram</td>\n",
              "      <td>26</td>\n",
              "      <td>Recruiter</td>\n",
              "      <td>Male</td>\n",
              "      <td>Yes</td>\n",
              "      <td>No</td>\n",
              "      <td>No</td>\n",
              "      <td>Yes</td>\n",
              "      <td>No</td>\n",
              "      <td>STRESSED</td>\n",
              "      <td>3</td>\n",
              "      <td>3</td>\n",
              "      <td>5</td>\n",
              "      <td>Yes</td>\n",
              "      <td>4</td>\n",
              "      <td>2</td>\n",
              "      <td>Yes</td>\n",
              "      <td>1</td>\n",
              "    </tr>\n",
              "    <tr>\n",
              "      <th>...</th>\n",
              "      <td>...</td>\n",
              "      <td>...</td>\n",
              "      <td>...</td>\n",
              "      <td>...</td>\n",
              "      <td>...</td>\n",
              "      <td>...</td>\n",
              "      <td>...</td>\n",
              "      <td>...</td>\n",
              "      <td>...</td>\n",
              "      <td>...</td>\n",
              "      <td>...</td>\n",
              "      <td>...</td>\n",
              "      <td>...</td>\n",
              "      <td>...</td>\n",
              "      <td>...</td>\n",
              "      <td>...</td>\n",
              "      <td>...</td>\n",
              "      <td>...</td>\n",
              "      <td>...</td>\n",
              "    </tr>\n",
              "    <tr>\n",
              "      <th>202</th>\n",
              "      <td>203</td>\n",
              "      <td>Nandini</td>\n",
              "      <td>32</td>\n",
              "      <td>Engineer</td>\n",
              "      <td>Female</td>\n",
              "      <td>Yes</td>\n",
              "      <td>Yes</td>\n",
              "      <td>Yes</td>\n",
              "      <td>Yes</td>\n",
              "      <td>Yes</td>\n",
              "      <td>CALMER</td>\n",
              "      <td>4</td>\n",
              "      <td>1</td>\n",
              "      <td>5</td>\n",
              "      <td>Yes</td>\n",
              "      <td>3</td>\n",
              "      <td>3</td>\n",
              "      <td>Not sure</td>\n",
              "      <td>1</td>\n",
              "    </tr>\n",
              "    <tr>\n",
              "      <th>203</th>\n",
              "      <td>204</td>\n",
              "      <td>Matt</td>\n",
              "      <td>52</td>\n",
              "      <td>Business</td>\n",
              "      <td>Male</td>\n",
              "      <td>Yes</td>\n",
              "      <td>Yes</td>\n",
              "      <td>Yes</td>\n",
              "      <td>Yes</td>\n",
              "      <td>Yes</td>\n",
              "      <td>CALMER</td>\n",
              "      <td>4</td>\n",
              "      <td>4</td>\n",
              "      <td>4</td>\n",
              "      <td>Yes</td>\n",
              "      <td>5</td>\n",
              "      <td>3</td>\n",
              "      <td>No</td>\n",
              "      <td>1</td>\n",
              "    </tr>\n",
              "    <tr>\n",
              "      <th>204</th>\n",
              "      <td>205</td>\n",
              "      <td>Rithik</td>\n",
              "      <td>22</td>\n",
              "      <td>Marketing</td>\n",
              "      <td>Male</td>\n",
              "      <td>Yes</td>\n",
              "      <td>No</td>\n",
              "      <td>Yes</td>\n",
              "      <td>Yes</td>\n",
              "      <td>No</td>\n",
              "      <td>STRESSED</td>\n",
              "      <td>4</td>\n",
              "      <td>4</td>\n",
              "      <td>4</td>\n",
              "      <td>No</td>\n",
              "      <td>4</td>\n",
              "      <td>3</td>\n",
              "      <td>Not sure</td>\n",
              "      <td>0</td>\n",
              "    </tr>\n",
              "    <tr>\n",
              "      <th>205</th>\n",
              "      <td>206</td>\n",
              "      <td>Radha</td>\n",
              "      <td>25</td>\n",
              "      <td>Marketing</td>\n",
              "      <td>Female</td>\n",
              "      <td>No</td>\n",
              "      <td>Yes</td>\n",
              "      <td>Yes</td>\n",
              "      <td>No</td>\n",
              "      <td>No</td>\n",
              "      <td>STRESSED</td>\n",
              "      <td>5</td>\n",
              "      <td>3</td>\n",
              "      <td>5</td>\n",
              "      <td>Yes</td>\n",
              "      <td>1</td>\n",
              "      <td>3</td>\n",
              "      <td>No</td>\n",
              "      <td>0</td>\n",
              "    </tr>\n",
              "    <tr>\n",
              "      <th>206</th>\n",
              "      <td>207</td>\n",
              "      <td>Anaisha</td>\n",
              "      <td>23</td>\n",
              "      <td>Tutor</td>\n",
              "      <td>Female</td>\n",
              "      <td>No</td>\n",
              "      <td>No</td>\n",
              "      <td>Yes</td>\n",
              "      <td>Yes</td>\n",
              "      <td>Yes</td>\n",
              "      <td>CALMER</td>\n",
              "      <td>3</td>\n",
              "      <td>3</td>\n",
              "      <td>4</td>\n",
              "      <td>No</td>\n",
              "      <td>2</td>\n",
              "      <td>3</td>\n",
              "      <td>No</td>\n",
              "      <td>0</td>\n",
              "    </tr>\n",
              "  </tbody>\n",
              "</table>\n",
              "<p>207 rows × 19 columns</p>\n",
              "</div>\n",
              "      <button class=\"colab-df-convert\" onclick=\"convertToInteractive('df-841d8e60-7537-4d3b-b3e4-b49e1b4a1513')\"\n",
              "              title=\"Convert this dataframe to an interactive table.\"\n",
              "              style=\"display:none;\">\n",
              "        \n",
              "  <svg xmlns=\"http://www.w3.org/2000/svg\" height=\"24px\"viewBox=\"0 0 24 24\"\n",
              "       width=\"24px\">\n",
              "    <path d=\"M0 0h24v24H0V0z\" fill=\"none\"/>\n",
              "    <path d=\"M18.56 5.44l.94 2.06.94-2.06 2.06-.94-2.06-.94-.94-2.06-.94 2.06-2.06.94zm-11 1L8.5 8.5l.94-2.06 2.06-.94-2.06-.94L8.5 2.5l-.94 2.06-2.06.94zm10 10l.94 2.06.94-2.06 2.06-.94-2.06-.94-.94-2.06-.94 2.06-2.06.94z\"/><path d=\"M17.41 7.96l-1.37-1.37c-.4-.4-.92-.59-1.43-.59-.52 0-1.04.2-1.43.59L10.3 9.45l-7.72 7.72c-.78.78-.78 2.05 0 2.83L4 21.41c.39.39.9.59 1.41.59.51 0 1.02-.2 1.41-.59l7.78-7.78 2.81-2.81c.8-.78.8-2.07 0-2.86zM5.41 20L4 18.59l7.72-7.72 1.47 1.35L5.41 20z\"/>\n",
              "  </svg>\n",
              "      </button>\n",
              "      \n",
              "  <style>\n",
              "    .colab-df-container {\n",
              "      display:flex;\n",
              "      flex-wrap:wrap;\n",
              "      gap: 12px;\n",
              "    }\n",
              "\n",
              "    .colab-df-convert {\n",
              "      background-color: #E8F0FE;\n",
              "      border: none;\n",
              "      border-radius: 50%;\n",
              "      cursor: pointer;\n",
              "      display: none;\n",
              "      fill: #1967D2;\n",
              "      height: 32px;\n",
              "      padding: 0 0 0 0;\n",
              "      width: 32px;\n",
              "    }\n",
              "\n",
              "    .colab-df-convert:hover {\n",
              "      background-color: #E2EBFA;\n",
              "      box-shadow: 0px 1px 2px rgba(60, 64, 67, 0.3), 0px 1px 3px 1px rgba(60, 64, 67, 0.15);\n",
              "      fill: #174EA6;\n",
              "    }\n",
              "\n",
              "    [theme=dark] .colab-df-convert {\n",
              "      background-color: #3B4455;\n",
              "      fill: #D2E3FC;\n",
              "    }\n",
              "\n",
              "    [theme=dark] .colab-df-convert:hover {\n",
              "      background-color: #434B5C;\n",
              "      box-shadow: 0px 1px 3px 1px rgba(0, 0, 0, 0.15);\n",
              "      filter: drop-shadow(0px 1px 2px rgba(0, 0, 0, 0.3));\n",
              "      fill: #FFFFFF;\n",
              "    }\n",
              "  </style>\n",
              "\n",
              "      <script>\n",
              "        const buttonEl =\n",
              "          document.querySelector('#df-841d8e60-7537-4d3b-b3e4-b49e1b4a1513 button.colab-df-convert');\n",
              "        buttonEl.style.display =\n",
              "          google.colab.kernel.accessAllowed ? 'block' : 'none';\n",
              "\n",
              "        async function convertToInteractive(key) {\n",
              "          const element = document.querySelector('#df-841d8e60-7537-4d3b-b3e4-b49e1b4a1513');\n",
              "          const dataTable =\n",
              "            await google.colab.kernel.invokeFunction('convertToInteractive',\n",
              "                                                     [key], {});\n",
              "          if (!dataTable) return;\n",
              "\n",
              "          const docLinkHtml = 'Like what you see? Visit the ' +\n",
              "            '<a target=\"_blank\" href=https://colab.research.google.com/notebooks/data_table.ipynb>data table notebook</a>'\n",
              "            + ' to learn more about interactive tables.';\n",
              "          element.innerHTML = '';\n",
              "          dataTable['output_type'] = 'display_data';\n",
              "          await google.colab.output.renderOutput(dataTable, element);\n",
              "          const docLink = document.createElement('div');\n",
              "          docLink.innerHTML = docLinkHtml;\n",
              "          element.appendChild(docLink);\n",
              "        }\n",
              "      </script>\n",
              "    </div>\n",
              "  </div>\n",
              "  "
            ]
          },
          "metadata": {},
          "execution_count": 5
        }
      ],
      "source": [
        "df"
      ]
    },
    {
      "cell_type": "markdown",
      "metadata": {
        "id": "5Dhj2JV5gPnS"
      },
      "source": [
        "Data Exploration and Preprocessing"
      ]
    },
    {
      "cell_type": "code",
      "execution_count": 6,
      "metadata": {
        "colab": {
          "base_uri": "https://localhost:8080/",
          "height": 364
        },
        "id": "O9AsMY3hgFzw",
        "outputId": "bb2cd4f1-b43a-4f38-df2a-24cf7f6c96f6"
      },
      "outputs": [
        {
          "output_type": "execute_result",
          "data": {
            "text/plain": [
              "               ID         Age  RM_professional_growth     RM_lazy  \\\n",
              "count  207.000000  207.000000              207.000000  207.000000   \n",
              "mean   104.000000   29.666667                3.086957    3.101449   \n",
              "std     59.899917    8.506993                1.089301    1.255801   \n",
              "min      1.000000   21.000000                1.000000    1.000000   \n",
              "25%     52.500000   25.000000                2.000000    2.000000   \n",
              "50%    104.000000   26.000000                3.000000    3.000000   \n",
              "75%    155.500000   29.000000                4.000000    4.000000   \n",
              "max    207.000000   57.000000                5.000000    5.000000   \n",
              "\n",
              "       RM_productive  RM_better_work_life_balance  RM_improved_skillset  \\\n",
              "count     207.000000                   207.000000            207.000000   \n",
              "mean        3.623188                     3.043478              3.521739   \n",
              "std         0.996617                     1.247539              1.004002   \n",
              "min         1.000000                     1.000000              1.000000   \n",
              "25%         3.000000                     2.000000              3.000000   \n",
              "50%         4.000000                     3.000000              3.000000   \n",
              "75%         4.000000                     4.000000              4.000000   \n",
              "max         5.000000                     5.000000              5.000000   \n",
              "\n",
              "           Target  \n",
              "count  207.000000  \n",
              "mean     0.405797  \n",
              "std      0.492236  \n",
              "min      0.000000  \n",
              "25%      0.000000  \n",
              "50%      0.000000  \n",
              "75%      1.000000  \n",
              "max      1.000000  "
            ],
            "text/html": [
              "\n",
              "  <div id=\"df-1ffb02f8-05bb-4712-b2d7-d6a23713bf33\">\n",
              "    <div class=\"colab-df-container\">\n",
              "      <div>\n",
              "<style scoped>\n",
              "    .dataframe tbody tr th:only-of-type {\n",
              "        vertical-align: middle;\n",
              "    }\n",
              "\n",
              "    .dataframe tbody tr th {\n",
              "        vertical-align: top;\n",
              "    }\n",
              "\n",
              "    .dataframe thead th {\n",
              "        text-align: right;\n",
              "    }\n",
              "</style>\n",
              "<table border=\"1\" class=\"dataframe\">\n",
              "  <thead>\n",
              "    <tr style=\"text-align: right;\">\n",
              "      <th></th>\n",
              "      <th>ID</th>\n",
              "      <th>Age</th>\n",
              "      <th>RM_professional_growth</th>\n",
              "      <th>RM_lazy</th>\n",
              "      <th>RM_productive</th>\n",
              "      <th>RM_better_work_life_balance</th>\n",
              "      <th>RM_improved_skillset</th>\n",
              "      <th>Target</th>\n",
              "    </tr>\n",
              "  </thead>\n",
              "  <tbody>\n",
              "    <tr>\n",
              "      <th>count</th>\n",
              "      <td>207.000000</td>\n",
              "      <td>207.000000</td>\n",
              "      <td>207.000000</td>\n",
              "      <td>207.000000</td>\n",
              "      <td>207.000000</td>\n",
              "      <td>207.000000</td>\n",
              "      <td>207.000000</td>\n",
              "      <td>207.000000</td>\n",
              "    </tr>\n",
              "    <tr>\n",
              "      <th>mean</th>\n",
              "      <td>104.000000</td>\n",
              "      <td>29.666667</td>\n",
              "      <td>3.086957</td>\n",
              "      <td>3.101449</td>\n",
              "      <td>3.623188</td>\n",
              "      <td>3.043478</td>\n",
              "      <td>3.521739</td>\n",
              "      <td>0.405797</td>\n",
              "    </tr>\n",
              "    <tr>\n",
              "      <th>std</th>\n",
              "      <td>59.899917</td>\n",
              "      <td>8.506993</td>\n",
              "      <td>1.089301</td>\n",
              "      <td>1.255801</td>\n",
              "      <td>0.996617</td>\n",
              "      <td>1.247539</td>\n",
              "      <td>1.004002</td>\n",
              "      <td>0.492236</td>\n",
              "    </tr>\n",
              "    <tr>\n",
              "      <th>min</th>\n",
              "      <td>1.000000</td>\n",
              "      <td>21.000000</td>\n",
              "      <td>1.000000</td>\n",
              "      <td>1.000000</td>\n",
              "      <td>1.000000</td>\n",
              "      <td>1.000000</td>\n",
              "      <td>1.000000</td>\n",
              "      <td>0.000000</td>\n",
              "    </tr>\n",
              "    <tr>\n",
              "      <th>25%</th>\n",
              "      <td>52.500000</td>\n",
              "      <td>25.000000</td>\n",
              "      <td>2.000000</td>\n",
              "      <td>2.000000</td>\n",
              "      <td>3.000000</td>\n",
              "      <td>2.000000</td>\n",
              "      <td>3.000000</td>\n",
              "      <td>0.000000</td>\n",
              "    </tr>\n",
              "    <tr>\n",
              "      <th>50%</th>\n",
              "      <td>104.000000</td>\n",
              "      <td>26.000000</td>\n",
              "      <td>3.000000</td>\n",
              "      <td>3.000000</td>\n",
              "      <td>4.000000</td>\n",
              "      <td>3.000000</td>\n",
              "      <td>3.000000</td>\n",
              "      <td>0.000000</td>\n",
              "    </tr>\n",
              "    <tr>\n",
              "      <th>75%</th>\n",
              "      <td>155.500000</td>\n",
              "      <td>29.000000</td>\n",
              "      <td>4.000000</td>\n",
              "      <td>4.000000</td>\n",
              "      <td>4.000000</td>\n",
              "      <td>4.000000</td>\n",
              "      <td>4.000000</td>\n",
              "      <td>1.000000</td>\n",
              "    </tr>\n",
              "    <tr>\n",
              "      <th>max</th>\n",
              "      <td>207.000000</td>\n",
              "      <td>57.000000</td>\n",
              "      <td>5.000000</td>\n",
              "      <td>5.000000</td>\n",
              "      <td>5.000000</td>\n",
              "      <td>5.000000</td>\n",
              "      <td>5.000000</td>\n",
              "      <td>1.000000</td>\n",
              "    </tr>\n",
              "  </tbody>\n",
              "</table>\n",
              "</div>\n",
              "      <button class=\"colab-df-convert\" onclick=\"convertToInteractive('df-1ffb02f8-05bb-4712-b2d7-d6a23713bf33')\"\n",
              "              title=\"Convert this dataframe to an interactive table.\"\n",
              "              style=\"display:none;\">\n",
              "        \n",
              "  <svg xmlns=\"http://www.w3.org/2000/svg\" height=\"24px\"viewBox=\"0 0 24 24\"\n",
              "       width=\"24px\">\n",
              "    <path d=\"M0 0h24v24H0V0z\" fill=\"none\"/>\n",
              "    <path d=\"M18.56 5.44l.94 2.06.94-2.06 2.06-.94-2.06-.94-.94-2.06-.94 2.06-2.06.94zm-11 1L8.5 8.5l.94-2.06 2.06-.94-2.06-.94L8.5 2.5l-.94 2.06-2.06.94zm10 10l.94 2.06.94-2.06 2.06-.94-2.06-.94-.94-2.06-.94 2.06-2.06.94z\"/><path d=\"M17.41 7.96l-1.37-1.37c-.4-.4-.92-.59-1.43-.59-.52 0-1.04.2-1.43.59L10.3 9.45l-7.72 7.72c-.78.78-.78 2.05 0 2.83L4 21.41c.39.39.9.59 1.41.59.51 0 1.02-.2 1.41-.59l7.78-7.78 2.81-2.81c.8-.78.8-2.07 0-2.86zM5.41 20L4 18.59l7.72-7.72 1.47 1.35L5.41 20z\"/>\n",
              "  </svg>\n",
              "      </button>\n",
              "      \n",
              "  <style>\n",
              "    .colab-df-container {\n",
              "      display:flex;\n",
              "      flex-wrap:wrap;\n",
              "      gap: 12px;\n",
              "    }\n",
              "\n",
              "    .colab-df-convert {\n",
              "      background-color: #E8F0FE;\n",
              "      border: none;\n",
              "      border-radius: 50%;\n",
              "      cursor: pointer;\n",
              "      display: none;\n",
              "      fill: #1967D2;\n",
              "      height: 32px;\n",
              "      padding: 0 0 0 0;\n",
              "      width: 32px;\n",
              "    }\n",
              "\n",
              "    .colab-df-convert:hover {\n",
              "      background-color: #E2EBFA;\n",
              "      box-shadow: 0px 1px 2px rgba(60, 64, 67, 0.3), 0px 1px 3px 1px rgba(60, 64, 67, 0.15);\n",
              "      fill: #174EA6;\n",
              "    }\n",
              "\n",
              "    [theme=dark] .colab-df-convert {\n",
              "      background-color: #3B4455;\n",
              "      fill: #D2E3FC;\n",
              "    }\n",
              "\n",
              "    [theme=dark] .colab-df-convert:hover {\n",
              "      background-color: #434B5C;\n",
              "      box-shadow: 0px 1px 3px 1px rgba(0, 0, 0, 0.15);\n",
              "      filter: drop-shadow(0px 1px 2px rgba(0, 0, 0, 0.3));\n",
              "      fill: #FFFFFF;\n",
              "    }\n",
              "  </style>\n",
              "\n",
              "      <script>\n",
              "        const buttonEl =\n",
              "          document.querySelector('#df-1ffb02f8-05bb-4712-b2d7-d6a23713bf33 button.colab-df-convert');\n",
              "        buttonEl.style.display =\n",
              "          google.colab.kernel.accessAllowed ? 'block' : 'none';\n",
              "\n",
              "        async function convertToInteractive(key) {\n",
              "          const element = document.querySelector('#df-1ffb02f8-05bb-4712-b2d7-d6a23713bf33');\n",
              "          const dataTable =\n",
              "            await google.colab.kernel.invokeFunction('convertToInteractive',\n",
              "                                                     [key], {});\n",
              "          if (!dataTable) return;\n",
              "\n",
              "          const docLinkHtml = 'Like what you see? Visit the ' +\n",
              "            '<a target=\"_blank\" href=https://colab.research.google.com/notebooks/data_table.ipynb>data table notebook</a>'\n",
              "            + ' to learn more about interactive tables.';\n",
              "          element.innerHTML = '';\n",
              "          dataTable['output_type'] = 'display_data';\n",
              "          await google.colab.output.renderOutput(dataTable, element);\n",
              "          const docLink = document.createElement('div');\n",
              "          docLink.innerHTML = docLinkHtml;\n",
              "          element.appendChild(docLink);\n",
              "        }\n",
              "      </script>\n",
              "    </div>\n",
              "  </div>\n",
              "  "
            ]
          },
          "metadata": {},
          "execution_count": 6
        }
      ],
      "source": [
        "df.describe()"
      ]
    },
    {
      "cell_type": "code",
      "execution_count": 7,
      "metadata": {
        "colab": {
          "base_uri": "https://localhost:8080/"
        },
        "id": "cnIiJhARs0mk",
        "outputId": "1406c332-3081-4f3d-9258-bf90f8d76cbc"
      },
      "outputs": [
        {
          "output_type": "stream",
          "name": "stdout",
          "text": [
            "<class 'pandas.core.frame.DataFrame'>\n",
            "RangeIndex: 207 entries, 0 to 206\n",
            "Data columns (total 19 columns):\n",
            " #   Column                       Non-Null Count  Dtype \n",
            "---  ------                       --------------  ----- \n",
            " 0   ID                           207 non-null    int64 \n",
            " 1   Name                         207 non-null    object\n",
            " 2   Age                          207 non-null    int64 \n",
            " 3   Occupation                   207 non-null    object\n",
            " 4   Gender                       207 non-null    object\n",
            " 5   Same_ofiice_home_location    207 non-null    object\n",
            " 6   kids                         207 non-null    object\n",
            " 7   RM_save_money                207 non-null    object\n",
            " 8   RM_quality_time              207 non-null    object\n",
            " 9   RM_better_sleep              207 non-null    object\n",
            " 10  calmer_stressed              207 non-null    object\n",
            " 11  RM_professional_growth       207 non-null    int64 \n",
            " 12  RM_lazy                      207 non-null    int64 \n",
            " 13  RM_productive                207 non-null    int64 \n",
            " 14  digital_connect_sufficient   207 non-null    object\n",
            " 15  RM_better_work_life_balance  207 non-null    int64 \n",
            " 16  RM_improved_skillset         207 non-null    int64 \n",
            " 17  RM_job_opportunities         207 non-null    object\n",
            " 18  Target                       207 non-null    int64 \n",
            "dtypes: int64(8), object(11)\n",
            "memory usage: 30.9+ KB\n"
          ]
        }
      ],
      "source": [
        "df.info()"
      ]
    },
    {
      "cell_type": "code",
      "execution_count": 8,
      "metadata": {
        "colab": {
          "base_uri": "https://localhost:8080/"
        },
        "id": "dlKU61rEoUap",
        "outputId": "a71559a4-8b2d-4a34-a18b-e419244be779"
      },
      "outputs": [
        {
          "output_type": "execute_result",
          "data": {
            "text/plain": [
              "0"
            ]
          },
          "metadata": {},
          "execution_count": 8
        }
      ],
      "source": [
        "#Count of Total NULL values in entire dataframe\n",
        "df.isna().sum().sum()"
      ]
    },
    {
      "cell_type": "code",
      "execution_count": 9,
      "metadata": {
        "colab": {
          "base_uri": "https://localhost:8080/"
        },
        "id": "U7PWI8uNtKGz",
        "outputId": "411e1627-2fb0-488b-e0b5-588a8945812f"
      },
      "outputs": [
        {
          "output_type": "execute_result",
          "data": {
            "text/plain": [
              "(207, 19)"
            ]
          },
          "metadata": {},
          "execution_count": 9
        }
      ],
      "source": [
        "df.shape"
      ]
    },
    {
      "cell_type": "code",
      "execution_count": 10,
      "metadata": {
        "colab": {
          "base_uri": "https://localhost:8080/"
        },
        "id": "InIaYUW4pb6N",
        "outputId": "bcbe2a37-441c-4bff-9b74-4fa1d5f7e7dc"
      },
      "outputs": [
        {
          "output_type": "execute_result",
          "data": {
            "text/plain": [
              "207"
            ]
          },
          "metadata": {},
          "execution_count": 10
        }
      ],
      "source": [
        "#number of rows in dataframe\n",
        "len(df)"
      ]
    },
    {
      "cell_type": "code",
      "execution_count": 11,
      "metadata": {
        "colab": {
          "base_uri": "https://localhost:8080/"
        },
        "id": "sPUWWY0uqWmi",
        "outputId": "7756b35f-0ac4-484e-ab59-2c0b1d2e6fc9"
      },
      "outputs": [
        {
          "output_type": "execute_result",
          "data": {
            "text/plain": [
              "19"
            ]
          },
          "metadata": {},
          "execution_count": 11
        }
      ],
      "source": [
        "#number of columns in dataframe\n",
        "len(df.columns)"
      ]
    },
    {
      "cell_type": "code",
      "execution_count": 12,
      "metadata": {
        "id": "qGHGSRDVqZhE"
      },
      "outputs": [],
      "source": [
        "df.drop_duplicates(inplace=True)"
      ]
    },
    {
      "cell_type": "code",
      "execution_count": 13,
      "metadata": {
        "colab": {
          "base_uri": "https://localhost:8080/"
        },
        "id": "wMRhWg3WuBC8",
        "outputId": "74ddbf2c-2c79-4918-8a51-324a419f9235"
      },
      "outputs": [
        {
          "output_type": "execute_result",
          "data": {
            "text/plain": [
              "(207, 19)"
            ]
          },
          "metadata": {},
          "execution_count": 13
        }
      ],
      "source": [
        "df.shape"
      ]
    },
    {
      "cell_type": "code",
      "execution_count": 14,
      "metadata": {
        "id": "7oQnp8WSuCDQ"
      },
      "outputs": [],
      "source": [
        "df.drop(['ID','Name'], inplace=True, axis=1)"
      ]
    },
    {
      "cell_type": "code",
      "execution_count": 15,
      "metadata": {
        "colab": {
          "base_uri": "https://localhost:8080/"
        },
        "id": "BsxeKd5buxbj",
        "outputId": "152fc04a-5b44-4bc5-c7a5-d45a7ef4e8a4"
      },
      "outputs": [
        {
          "output_type": "execute_result",
          "data": {
            "text/plain": [
              "(207, 17)"
            ]
          },
          "metadata": {},
          "execution_count": 15
        }
      ],
      "source": [
        "df.shape"
      ]
    },
    {
      "cell_type": "markdown",
      "metadata": {
        "id": "yPhCHcr7UBNU"
      },
      "source": [
        "**VISUALIZATION**"
      ]
    },
    {
      "cell_type": "code",
      "execution_count": 16,
      "metadata": {
        "colab": {
          "base_uri": "https://localhost:8080/",
          "height": 392
        },
        "id": "Lht7D0OKuzPW",
        "outputId": "acb3aa18-23d6-4eca-c772-9dd1aa2764ab"
      },
      "outputs": [
        {
          "output_type": "display_data",
          "data": {
            "text/plain": [
              "<Figure size 500x400 with 1 Axes>"
            ],
            "image/png": "[encoded data removed]"
          },
          "metadata": {}
        }
      ],
      "source": [
        "import matplotlib.pyplot as plt\n",
        "\n",
        "plt.subplots(figsize=(5,4)) \n",
        "plt.title('Gender', fontsize=14)\n",
        "x = ['Male', 'Female']\n",
        "y = [(df['Gender']=='Male').sum(), (df['Gender']=='Female').sum()]\n",
        "plt.bar(x, y, color=['skyblue', 'pink'])\n",
        " \n",
        "for index, value in enumerate(y):\n",
        "    plt.text(index, value,\n",
        "             str(value),\n",
        "             ha='center',\n",
        "             va='bottom')\n",
        " \n",
        "plt.show()"
      ]
    },
    {
      "cell_type": "markdown",
      "metadata": {
        "id": "IJOvE3sY3Rv9"
      },
      "source": [
        ">We have a count of 107 Females and 100 Males"
      ]
    },
    {
      "cell_type": "code",
      "execution_count": 17,
      "metadata": {
        "colab": {
          "base_uri": "https://localhost:8080/",
          "height": 392
        },
        "id": "QWT8fGWIxMCy",
        "outputId": "7f44bd23-e5f4-4fef-f999-2babff53a85b"
      },
      "outputs": [
        {
          "output_type": "display_data",
          "data": {
            "text/plain": [
              "<Figure size 500x400 with 1 Axes>"
            ],
            "image/png": "[encoded data removed]"
          },
          "metadata": {}
        }
      ],
      "source": [
        "#bar plot for calmer_stressed column\n",
        "\n",
        "plt.subplots(figsize=(5, 4)) \n",
        "x = ['CALMER', 'STRESSED']\n",
        "plt.title('Mental status', fontsize=14)\n",
        "y = [(df['calmer_stressed']=='CALMER').sum(), (df['calmer_stressed']=='STRESSED').sum()]\n",
        "plt.bar(x,y, color=['green', 'red'])\n",
        "\n",
        "for index, value in enumerate(y):\n",
        "    plt.text(index, value,\n",
        "             str(value),\n",
        "             ha='center',\n",
        "             va='bottom')\n",
        " \n",
        "plt.show()"
      ]
    },
    {
      "cell_type": "markdown",
      "metadata": {
        "id": "TQBpL0GJ3YpM"
      },
      "source": [
        ">We can see that remote working has caused increase in stress level in most of the  people"
      ]
    },
    {
      "cell_type": "code",
      "execution_count": 18,
      "metadata": {
        "colab": {
          "base_uri": "https://localhost:8080/"
        },
        "id": "r_FnAhIS8L1-",
        "outputId": "ba73f712-8bfc-450d-f4db-b7ff6b78abac"
      },
      "outputs": [
        {
          "output_type": "execute_result",
          "data": {
            "text/plain": [
              "array(['Tutor', 'HR', 'Engineer', 'Recruiter', 'Business', 'Marketing ',\n",
              "       'Manager'], dtype=object)"
            ]
          },
          "metadata": {},
          "execution_count": 18
        }
      ],
      "source": [
        "#get unique values in Occupation Column\n",
        "occ= df.Occupation.unique()\n",
        "occ"
      ]
    },
    {
      "cell_type": "code",
      "execution_count": 19,
      "metadata": {
        "colab": {
          "base_uri": "https://localhost:8080/",
          "height": 392
        },
        "id": "j9qetFi397NP",
        "outputId": "ecb32c76-7547-4a2d-dfcf-bc79c472c6e9"
      },
      "outputs": [
        {
          "output_type": "display_data",
          "data": {
            "text/plain": [
              "<Figure size 600x400 with 1 Axes>"
            ],
            "image/png": "[encoded data removed]"
          },
          "metadata": {}
        }
      ],
      "source": [
        "plt.subplots(figsize=(6, 4)) \n",
        "a=[]\n",
        "b=[]\n",
        "plt.title('Occupations', fontsize=14)\n",
        "for i in occ:\n",
        "  a.append(i)\n",
        "  b.append((df['Occupation']==i).sum())\n",
        "\n",
        "plt.bar(a,b, width=0.8)\n",
        "\n",
        "for index, value in enumerate(b):\n",
        "    plt.text(index, value,\n",
        "             str(value),\n",
        "             ha='center',\n",
        "             va='bottom')\n",
        "plt.show()"
      ]
    },
    {
      "cell_type": "code",
      "execution_count": 20,
      "metadata": {
        "colab": {
          "base_uri": "https://localhost:8080/",
          "height": 392
        },
        "id": "m5Kpxs-Z-Y3h",
        "outputId": "4b538498-4c3c-44dd-e26b-d2e810ed742f"
      },
      "outputs": [
        {
          "output_type": "display_data",
          "data": {
            "text/plain": [
              "<Figure size 500x400 with 1 Axes>"
            ],
            "image/png": "[encoded data removed]"
          },
          "metadata": {}
        }
      ],
      "source": [
        "#bar plot for kids column\n",
        "\n",
        "plt.subplots(figsize=(5, 4)) \n",
        "x = ['Yes', 'No']\n",
        "plt.title('Have Kids?', fontsize=14)\n",
        "y = [(df['kids']=='Yes').sum(), (df['kids']=='No').sum()]\n",
        "plt.bar(x,y)\n",
        " \n",
        "for index, value in enumerate(y):\n",
        "    plt.text(index, value,\n",
        "             str(value),\n",
        "             ha='center',\n",
        "             va='bottom')\n",
        " \n",
        "plt.show()"
      ]
    },
    {
      "cell_type": "markdown",
      "metadata": {
        "id": "JHjcVCw-3nfq"
      },
      "source": [
        ">Majority of the people in our data set does not have kids"
      ]
    },
    {
      "cell_type": "code",
      "execution_count": 21,
      "metadata": {
        "colab": {
          "base_uri": "https://localhost:8080/"
        },
        "id": "i8A8BrM2Irmk",
        "outputId": "02c94b81-ef00-4919-8a71-81bec022a04a"
      },
      "outputs": [
        {
          "output_type": "execute_result",
          "data": {
            "text/plain": [
              "array([5, 2, 4, 3, 1])"
            ]
          },
          "metadata": {},
          "execution_count": 21
        }
      ],
      "source": [
        "pro= df.RM_productive.unique()\n",
        "pro"
      ]
    },
    {
      "cell_type": "code",
      "execution_count": 22,
      "metadata": {
        "colab": {
          "base_uri": "https://localhost:8080/",
          "height": 453
        },
        "id": "5R8E-V9rMM4X",
        "outputId": "d69606d9-92c0-461b-c02a-f89e08d21435"
      },
      "outputs": [
        {
          "output_type": "display_data",
          "data": {
            "text/plain": [
              "<Figure size 640x480 with 1 Axes>"
            ],
            "image/png": "[encoded data removed]"
          },
          "metadata": {}
        }
      ],
      "source": [
        "#bar plot for percentage of members find working remotely productive\n",
        "a=[]\n",
        "b=[]\n",
        "pro.sort()\n",
        "for i in pro:\n",
        "  x= (((df['RM_productive']==i).sum())/206)*100\n",
        "  a.append(str(\"{0:.2f}\".format(x))+'%')\n",
        "  b.append((df['RM_productive']==i).sum())\n",
        "plt.title('Productivity low to high', fontsize=14)\n",
        "plt.bar(a,b)\n",
        "plt.show()"
      ]
    },
    {
      "cell_type": "markdown",
      "metadata": {
        "id": "igZYnQRc3r_6"
      },
      "source": [
        ">Most people feel that WFH has made them more productive (Rank:4)"
      ]
    },
    {
      "cell_type": "code",
      "execution_count": 23,
      "metadata": {
        "colab": {
          "base_uri": "https://localhost:8080/",
          "height": 392
        },
        "id": "HU2V0ki7MQ9S",
        "outputId": "9bc1f242-a143-451e-91ea-75d066d11427"
      },
      "outputs": [
        {
          "output_type": "display_data",
          "data": {
            "text/plain": [
              "<Figure size 500x400 with 1 Axes>"
            ],
            "image/png": "[encoded data removed]"
          },
          "metadata": {}
        }
      ],
      "source": [
        "#bar plot for RM_Save_money column\n",
        "\n",
        "plt.subplots(figsize=(5, 4)) \n",
        "x = ['Yes', 'No']\n",
        "plt.title('Able to save money through WFH', fontsize=14)\n",
        "y = [(df['RM_save_money']=='Yes').sum(), (df['RM_save_money']=='No').sum()]\n",
        "plt.bar(x,y,color=['lightgreen', 'red'])\n",
        " \n",
        "for index, value in enumerate(y):\n",
        "    plt.text(index, value,\n",
        "             str(value),\n",
        "             ha='center',\n",
        "             va='bottom')\n",
        " \n",
        "plt.show()"
      ]
    },
    {
      "cell_type": "markdown",
      "metadata": {
        "id": "nOFb7Snx3y81"
      },
      "source": [
        ">Larger proportion of people believe that they are able to save money through WFH"
      ]
    },
    {
      "cell_type": "code",
      "execution_count": 24,
      "metadata": {
        "colab": {
          "base_uri": "https://localhost:8080/",
          "height": 519
        },
        "id": "iP5udZ6kQPg6",
        "outputId": "e0fbfb28-103f-4a33-bf61-38cbe997b859"
      },
      "outputs": [
        {
          "output_type": "display_data",
          "data": {
            "text/plain": [
              "<Figure size 640x480 with 1 Axes>"
            ],
            "image/png": "[encoded data removed]"
          },
          "metadata": {}
        }
      ],
      "source": [
        "#bar plot for count of employees able to balance the work remotely\n",
        "wlb= df.RM_better_work_life_balance.unique()\n",
        "\n",
        "a=[]\n",
        "b=[]\n",
        "wlb.sort()\n",
        "for i in wlb:\n",
        "  x= (((df['RM_better_work_life_balance']==i).sum())/206)*100\n",
        "  a.append(i)\n",
        "  b.append((df['RM_better_work_life_balance']==i).sum())\n",
        "plt.title(\"Better work life balance\\n\\n1-Not at all\\n5- Yes\", fontsize=14)\n",
        "plt.bar(a,b)\n",
        "plt.show()"
      ]
    },
    {
      "cell_type": "markdown",
      "metadata": {
        "id": "8SgvMOTuT2hW"
      },
      "source": [
        "**FINDING CATEGORICAL COLUMNS**\n"
      ]
    },
    {
      "cell_type": "code",
      "execution_count": 25,
      "metadata": {
        "id": "J3k93AZRT-DS"
      },
      "outputs": [],
      "source": [
        "cat = df.select_dtypes(include=['object']).copy()"
      ]
    },
    {
      "cell_type": "code",
      "execution_count": 26,
      "metadata": {
        "id": "LGoW4kwWUGdz"
      },
      "outputs": [],
      "source": [
        "cc= cat.columns"
      ]
    },
    {
      "cell_type": "code",
      "execution_count": 27,
      "metadata": {
        "colab": {
          "base_uri": "https://localhost:8080/"
        },
        "id": "S4mL7DlUb8AQ",
        "outputId": "2135a0d4-db65-431a-f916-77b2857ca0d1"
      },
      "outputs": [
        {
          "output_type": "execute_result",
          "data": {
            "text/plain": [
              "Index(['Occupation', 'Gender', 'Same_ofiice_home_location', 'kids',\n",
              "       'RM_save_money', 'RM_quality_time', 'RM_better_sleep',\n",
              "       'calmer_stressed', 'digital_connect_sufficient',\n",
              "       'RM_job_opportunities'],\n",
              "      dtype='object')"
            ]
          },
          "metadata": {},
          "execution_count": 27
        }
      ],
      "source": [
        "cc"
      ]
    },
    {
      "cell_type": "markdown",
      "metadata": {
        "id": "EPr4Na2CamPK"
      },
      "source": [
        "**CONVERSION OF CATEGORICAL TO NUMERIC**\n"
      ]
    },
    {
      "cell_type": "code",
      "execution_count": 28,
      "metadata": {
        "colab": {
          "base_uri": "https://localhost:8080/"
        },
        "id": "0YR5nCFab_uG",
        "outputId": "565dc40b-0b39-4488-8cd0-44bab0273958"
      },
      "outputs": [
        {
          "output_type": "stream",
          "name": "stdout",
          "text": [
            "Occupation-   ['Business' 'Engineer' 'HR' 'Manager' 'Marketing ' 'Recruiter' 'Tutor']\n",
            "Gender-   ['Female' 'Male']\n",
            "Same_ofiice_home_location-   ['No' 'Yes' 'yes']\n",
            "kids-   ['No' 'Yes']\n",
            "RM_save_money-   ['No' 'Yes']\n",
            "RM_quality_time-   ['No' 'Yes']\n",
            "RM_better_sleep-   ['No' 'Yes']\n",
            "calmer_stressed-   ['CALMER' 'STRESSED']\n",
            "digital_connect_sufficient-   ['No' 'Yes']\n",
            "RM_job_opportunities-   ['No' 'Not sure' 'Yes']\n"
          ]
        }
      ],
      "source": [
        "le = preprocessing.LabelEncoder()\n",
        "for i in cc:\n",
        "  df[i]=le.fit_transform(df[i])\n",
        "  print(i, end=\"-   \")\n",
        "  print(le.classes_)"
      ]
    },
    {
      "cell_type": "code",
      "execution_count": 29,
      "metadata": {
        "colab": {
          "base_uri": "https://localhost:8080/",
          "height": 488
        },
        "id": "t9NueqbzcuZp",
        "outputId": "cf795e47-7c45-4956-febc-d74f434feea1"
      },
      "outputs": [
        {
          "output_type": "execute_result",
          "data": {
            "text/plain": [
              "     Age  Occupation  Gender  Same_ofiice_home_location  kids  RM_save_money  \\\n",
              "0     45           6       0                          1     1              1   \n",
              "1     24           6       1                          0     0              0   \n",
              "2     53           2       0                          1     1              1   \n",
              "3     26           1       0                          1     0              1   \n",
              "4     26           5       1                          1     0              0   \n",
              "..   ...         ...     ...                        ...   ...            ...   \n",
              "202   32           1       0                          1     1              1   \n",
              "203   52           0       1                          1     1              1   \n",
              "204   22           4       1                          1     0              1   \n",
              "205   25           4       0                          0     1              1   \n",
              "206   23           6       0                          0     0              1   \n",
              "\n",
              "     RM_quality_time  RM_better_sleep  calmer_stressed  \\\n",
              "0                  1                1                0   \n",
              "1                  0                0                0   \n",
              "2                  1                1                0   \n",
              "3                  1                0                1   \n",
              "4                  1                0                1   \n",
              "..               ...              ...              ...   \n",
              "202                1                1                0   \n",
              "203                1                1                0   \n",
              "204                1                0                1   \n",
              "205                0                0                1   \n",
              "206                1                1                0   \n",
              "\n",
              "     RM_professional_growth  RM_lazy  RM_productive  \\\n",
              "0                         5        1              5   \n",
              "1                         2        2              2   \n",
              "2                         3        3              4   \n",
              "3                         3        4              4   \n",
              "4                         3        3              5   \n",
              "..                      ...      ...            ...   \n",
              "202                       4        1              5   \n",
              "203                       4        4              4   \n",
              "204                       4        4              4   \n",
              "205                       5        3              5   \n",
              "206                       3        3              4   \n",
              "\n",
              "     digital_connect_sufficient  RM_better_work_life_balance  \\\n",
              "0                             1                            5   \n",
              "1                             0                            3   \n",
              "2                             0                            5   \n",
              "3                             0                            4   \n",
              "4                             1                            4   \n",
              "..                          ...                          ...   \n",
              "202                           1                            3   \n",
              "203                           1                            5   \n",
              "204                           0                            4   \n",
              "205                           1                            1   \n",
              "206                           0                            2   \n",
              "\n",
              "     RM_improved_skillset  RM_job_opportunities  Target  \n",
              "0                       5                     2       1  \n",
              "1                       3                     0       1  \n",
              "2                       3                     0       1  \n",
              "3                       5                     2       0  \n",
              "4                       2                     2       1  \n",
              "..                    ...                   ...     ...  \n",
              "202                     3                     1       1  \n",
              "203                     3                     0       1  \n",
              "204                     3                     1       0  \n",
              "205                     3                     0       0  \n",
              "206                     3                     0       0  \n",
              "\n",
              "[207 rows x 17 columns]"
            ],
            "text/html": [
              "\n",
              "  <div id=\"df-3dddf23b-4b68-497e-b17f-2248f06d143e\">\n",
              "    <div class=\"colab-df-container\">\n",
              "      <div>\n",
              "<style scoped>\n",
              "    .dataframe tbody tr th:only-of-type {\n",
              "        vertical-align: middle;\n",
              "    }\n",
              "\n",
              "    .dataframe tbody tr th {\n",
              "        vertical-align: top;\n",
              "    }\n",
              "\n",
              "    .dataframe thead th {\n",
              "        text-align: right;\n",
              "    }\n",
              "</style>\n",
              "<table border=\"1\" class=\"dataframe\">\n",
              "  <thead>\n",
              "    <tr style=\"text-align: right;\">\n",
              "      <th></th>\n",
              "      <th>Age</th>\n",
              "      <th>Occupation</th>\n",
              "      <th>Gender</th>\n",
              "      <th>Same_ofiice_home_location</th>\n",
              "      <th>kids</th>\n",
              "      <th>RM_save_money</th>\n",
              "      <th>RM_quality_time</th>\n",
              "      <th>RM_better_sleep</th>\n",
              "      <th>calmer_stressed</th>\n",
              "      <th>RM_professional_growth</th>\n",
              "      <th>RM_lazy</th>\n",
              "      <th>RM_productive</th>\n",
              "      <th>digital_connect_sufficient</th>\n",
              "      <th>RM_better_work_life_balance</th>\n",
              "      <th>RM_improved_skillset</th>\n",
              "      <th>RM_job_opportunities</th>\n",
              "      <th>Target</th>\n",
              "    </tr>\n",
              "  </thead>\n",
              "  <tbody>\n",
              "    <tr>\n",
              "      <th>0</th>\n",
              "      <td>45</td>\n",
              "      <td>6</td>\n",
              "      <td>0</td>\n",
              "      <td>1</td>\n",
              "      <td>1</td>\n",
              "      <td>1</td>\n",
              "      <td>1</td>\n",
              "      <td>1</td>\n",
              "      <td>0</td>\n",
              "      <td>5</td>\n",
              "      <td>1</td>\n",
              "      <td>5</td>\n",
              "      <td>1</td>\n",
              "      <td>5</td>\n",
              "      <td>5</td>\n",
              "      <td>2</td>\n",
              "      <td>1</td>\n",
              "    </tr>\n",
              "    <tr>\n",
              "      <th>1</th>\n",
              "      <td>24</td>\n",
              "      <td>6</td>\n",
              "      <td>1</td>\n",
              "      <td>0</td>\n",
              "      <td>0</td>\n",
              "      <td>0</td>\n",
              "      <td>0</td>\n",
              "      <td>0</td>\n",
              "      <td>0</td>\n",
              "      <td>2</td>\n",
              "      <td>2</td>\n",
              "      <td>2</td>\n",
              "      <td>0</td>\n",
              "      <td>3</td>\n",
              "      <td>3</td>\n",
              "      <td>0</td>\n",
              "      <td>1</td>\n",
              "    </tr>\n",
              "    <tr>\n",
              "      <th>2</th>\n",
              "      <td>53</td>\n",
              "      <td>2</td>\n",
              "      <td>0</td>\n",
              "      <td>1</td>\n",
              "      <td>1</td>\n",
              "      <td>1</td>\n",
              "      <td>1</td>\n",
              "      <td>1</td>\n",
              "      <td>0</td>\n",
              "      <td>3</td>\n",
              "      <td>3</td>\n",
              "      <td>4</td>\n",
              "      <td>0</td>\n",
              "      <td>5</td>\n",
              "      <td>3</td>\n",
              "      <td>0</td>\n",
              "      <td>1</td>\n",
              "    </tr>\n",
              "    <tr>\n",
              "      <th>3</th>\n",
              "      <td>26</td>\n",
              "      <td>1</td>\n",
              "      <td>0</td>\n",
              "      <td>1</td>\n",
              "      <td>0</td>\n",
              "      <td>1</td>\n",
              "      <td>1</td>\n",
              "      <td>0</td>\n",
              "      <td>1</td>\n",
              "      <td>3</td>\n",
              "      <td>4</td>\n",
              "      <td>4</td>\n",
              "      <td>0</td>\n",
              "      <td>4</td>\n",
              "      <td>5</td>\n",
              "      <td>2</td>\n",
              "      <td>0</td>\n",
              "    </tr>\n",
              "    <tr>\n",
              "      <th>4</th>\n",
              "      <td>26</td>\n",
              "      <td>5</td>\n",
              "      <td>1</td>\n",
              "      <td>1</td>\n",
              "      <td>0</td>\n",
              "      <td>0</td>\n",
              "      <td>1</td>\n",
              "      <td>0</td>\n",
              "      <td>1</td>\n",
              "      <td>3</td>\n",
              "      <td>3</td>\n",
              "      <td>5</td>\n",
              "      <td>1</td>\n",
              "      <td>4</td>\n",
              "      <td>2</td>\n",
              "      <td>2</td>\n",
              "      <td>1</td>\n",
              "    </tr>\n",
              "    <tr>\n",
              "      <th>...</th>\n",
              "      <td>...</td>\n",
              "      <td>...</td>\n",
              "      <td>...</td>\n",
              "      <td>...</td>\n",
              "      <td>...</td>\n",
              "      <td>...</td>\n",
              "      <td>...</td>\n",
              "      <td>...</td>\n",
              "      <td>...</td>\n",
              "      <td>...</td>\n",
              "      <td>...</td>\n",
              "      <td>...</td>\n",
              "      <td>...</td>\n",
              "      <td>...</td>\n",
              "      <td>...</td>\n",
              "      <td>...</td>\n",
              "      <td>...</td>\n",
              "    </tr>\n",
              "    <tr>\n",
              "      <th>202</th>\n",
              "      <td>32</td>\n",
              "      <td>1</td>\n",
              "      <td>0</td>\n",
              "      <td>1</td>\n",
              "      <td>1</td>\n",
              "      <td>1</td>\n",
              "      <td>1</td>\n",
              "      <td>1</td>\n",
              "      <td>0</td>\n",
              "      <td>4</td>\n",
              "      <td>1</td>\n",
              "      <td>5</td>\n",
              "      <td>1</td>\n",
              "      <td>3</td>\n",
              "      <td>3</td>\n",
              "      <td>1</td>\n",
              "      <td>1</td>\n",
              "    </tr>\n",
              "    <tr>\n",
              "      <th>203</th>\n",
              "      <td>52</td>\n",
              "      <td>0</td>\n",
              "      <td>1</td>\n",
              "      <td>1</td>\n",
              "      <td>1</td>\n",
              "      <td>1</td>\n",
              "      <td>1</td>\n",
              "      <td>1</td>\n",
              "      <td>0</td>\n",
              "      <td>4</td>\n",
              "      <td>4</td>\n",
              "      <td>4</td>\n",
              "      <td>1</td>\n",
              "      <td>5</td>\n",
              "      <td>3</td>\n",
              "      <td>0</td>\n",
              "      <td>1</td>\n",
              "    </tr>\n",
              "    <tr>\n",
              "      <th>204</th>\n",
              "      <td>22</td>\n",
              "      <td>4</td>\n",
              "      <td>1</td>\n",
              "      <td>1</td>\n",
              "      <td>0</td>\n",
              "      <td>1</td>\n",
              "      <td>1</td>\n",
              "      <td>0</td>\n",
              "      <td>1</td>\n",
              "      <td>4</td>\n",
              "      <td>4</td>\n",
              "      <td>4</td>\n",
              "      <td>0</td>\n",
              "      <td>4</td>\n",
              "      <td>3</td>\n",
              "      <td>1</td>\n",
              "      <td>0</td>\n",
              "    </tr>\n",
              "    <tr>\n",
              "      <th>205</th>\n",
              "      <td>25</td>\n",
              "      <td>4</td>\n",
              "      <td>0</td>\n",
              "      <td>0</td>\n",
              "      <td>1</td>\n",
              "      <td>1</td>\n",
              "      <td>0</td>\n",
              "      <td>0</td>\n",
              "      <td>1</td>\n",
              "      <td>5</td>\n",
              "      <td>3</td>\n",
              "      <td>5</td>\n",
              "      <td>1</td>\n",
              "      <td>1</td>\n",
              "      <td>3</td>\n",
              "      <td>0</td>\n",
              "      <td>0</td>\n",
              "    </tr>\n",
              "    <tr>\n",
              "      <th>206</th>\n",
              "      <td>23</td>\n",
              "      <td>6</td>\n",
              "      <td>0</td>\n",
              "      <td>0</td>\n",
              "      <td>0</td>\n",
              "      <td>1</td>\n",
              "      <td>1</td>\n",
              "      <td>1</td>\n",
              "      <td>0</td>\n",
              "      <td>3</td>\n",
              "      <td>3</td>\n",
              "      <td>4</td>\n",
              "      <td>0</td>\n",
              "      <td>2</td>\n",
              "      <td>3</td>\n",
              "      <td>0</td>\n",
              "      <td>0</td>\n",
              "    </tr>\n",
              "  </tbody>\n",
              "</table>\n",
              "<p>207 rows × 17 columns</p>\n",
              "</div>\n",
              "      <button class=\"colab-df-convert\" onclick=\"convertToInteractive('df-3dddf23b-4b68-497e-b17f-2248f06d143e')\"\n",
              "              title=\"Convert this dataframe to an interactive table.\"\n",
              "              style=\"display:none;\">\n",
              "        \n",
              "  <svg xmlns=\"http://www.w3.org/2000/svg\" height=\"24px\"viewBox=\"0 0 24 24\"\n",
              "       width=\"24px\">\n",
              "    <path d=\"M0 0h24v24H0V0z\" fill=\"none\"/>\n",
              "    <path d=\"M18.56 5.44l.94 2.06.94-2.06 2.06-.94-2.06-.94-.94-2.06-.94 2.06-2.06.94zm-11 1L8.5 8.5l.94-2.06 2.06-.94-2.06-.94L8.5 2.5l-.94 2.06-2.06.94zm10 10l.94 2.06.94-2.06 2.06-.94-2.06-.94-.94-2.06-.94 2.06-2.06.94z\"/><path d=\"M17.41 7.96l-1.37-1.37c-.4-.4-.92-.59-1.43-.59-.52 0-1.04.2-1.43.59L10.3 9.45l-7.72 7.72c-.78.78-.78 2.05 0 2.83L4 21.41c.39.39.9.59 1.41.59.51 0 1.02-.2 1.41-.59l7.78-7.78 2.81-2.81c.8-.78.8-2.07 0-2.86zM5.41 20L4 18.59l7.72-7.72 1.47 1.35L5.41 20z\"/>\n",
              "  </svg>\n",
              "      </button>\n",
              "      \n",
              "  <style>\n",
              "    .colab-df-container {\n",
              "      display:flex;\n",
              "      flex-wrap:wrap;\n",
              "      gap: 12px;\n",
              "    }\n",
              "\n",
              "    .colab-df-convert {\n",
              "      background-color: #E8F0FE;\n",
              "      border: none;\n",
              "      border-radius: 50%;\n",
              "      cursor: pointer;\n",
              "      display: none;\n",
              "      fill: #1967D2;\n",
              "      height: 32px;\n",
              "      padding: 0 0 0 0;\n",
              "      width: 32px;\n",
              "    }\n",
              "\n",
              "    .colab-df-convert:hover {\n",
              "      background-color: #E2EBFA;\n",
              "      box-shadow: 0px 1px 2px rgba(60, 64, 67, 0.3), 0px 1px 3px 1px rgba(60, 64, 67, 0.15);\n",
              "      fill: #174EA6;\n",
              "    }\n",
              "\n",
              "    [theme=dark] .colab-df-convert {\n",
              "      background-color: #3B4455;\n",
              "      fill: #D2E3FC;\n",
              "    }\n",
              "\n",
              "    [theme=dark] .colab-df-convert:hover {\n",
              "      background-color: #434B5C;\n",
              "      box-shadow: 0px 1px 3px 1px rgba(0, 0, 0, 0.15);\n",
              "      filter: drop-shadow(0px 1px 2px rgba(0, 0, 0, 0.3));\n",
              "      fill: #FFFFFF;\n",
              "    }\n",
              "  </style>\n",
              "\n",
              "      <script>\n",
              "        const buttonEl =\n",
              "          document.querySelector('#df-3dddf23b-4b68-497e-b17f-2248f06d143e button.colab-df-convert');\n",
              "        buttonEl.style.display =\n",
              "          google.colab.kernel.accessAllowed ? 'block' : 'none';\n",
              "\n",
              "        async function convertToInteractive(key) {\n",
              "          const element = document.querySelector('#df-3dddf23b-4b68-497e-b17f-2248f06d143e');\n",
              "          const dataTable =\n",
              "            await google.colab.kernel.invokeFunction('convertToInteractive',\n",
              "                                                     [key], {});\n",
              "          if (!dataTable) return;\n",
              "\n",
              "          const docLinkHtml = 'Like what you see? Visit the ' +\n",
              "            '<a target=\"_blank\" href=https://colab.research.google.com/notebooks/data_table.ipynb>data table notebook</a>'\n",
              "            + ' to learn more about interactive tables.';\n",
              "          element.innerHTML = '';\n",
              "          dataTable['output_type'] = 'display_data';\n",
              "          await google.colab.output.renderOutput(dataTable, element);\n",
              "          const docLink = document.createElement('div');\n",
              "          docLink.innerHTML = docLinkHtml;\n",
              "          element.appendChild(docLink);\n",
              "        }\n",
              "      </script>\n",
              "    </div>\n",
              "  </div>\n",
              "  "
            ]
          },
          "metadata": {},
          "execution_count": 29
        }
      ],
      "source": [
        "df"
      ]
    },
    {
      "cell_type": "code",
      "execution_count": 30,
      "metadata": {
        "id": "IrBP0HkjdCF2"
      },
      "outputs": [],
      "source": [
        "y = df.Target"
      ]
    },
    {
      "cell_type": "code",
      "execution_count": 31,
      "metadata": {
        "colab": {
          "base_uri": "https://localhost:8080/"
        },
        "id": "PAIpOo-hd4k5",
        "outputId": "dff98ea9-8e75-42df-a086-8da72c6ae523"
      },
      "outputs": [
        {
          "output_type": "execute_result",
          "data": {
            "text/plain": [
              "0      1\n",
              "1      1\n",
              "2      1\n",
              "3      0\n",
              "4      1\n",
              "      ..\n",
              "202    1\n",
              "203    1\n",
              "204    0\n",
              "205    0\n",
              "206    0\n",
              "Name: Target, Length: 207, dtype: int64"
            ]
          },
          "metadata": {},
          "execution_count": 31
        }
      ],
      "source": [
        "y"
      ]
    },
    {
      "cell_type": "code",
      "execution_count": 32,
      "metadata": {
        "id": "o7pQZKSmd-se"
      },
      "outputs": [],
      "source": [
        "X = df.drop('Target',axis = 1)"
      ]
    },
    {
      "cell_type": "code",
      "execution_count": 33,
      "metadata": {
        "colab": {
          "base_uri": "https://localhost:8080/",
          "height": 488
        },
        "id": "98sdpNN4eIFD",
        "outputId": "69db80ee-b42b-48c4-eb51-a2678e54e8c5"
      },
      "outputs": [
        {
          "output_type": "execute_result",
          "data": {
            "text/plain": [
              "     Age  Occupation  Gender  Same_ofiice_home_location  kids  RM_save_money  \\\n",
              "0     45           6       0                          1     1              1   \n",
              "1     24           6       1                          0     0              0   \n",
              "2     53           2       0                          1     1              1   \n",
              "3     26           1       0                          1     0              1   \n",
              "4     26           5       1                          1     0              0   \n",
              "..   ...         ...     ...                        ...   ...            ...   \n",
              "202   32           1       0                          1     1              1   \n",
              "203   52           0       1                          1     1              1   \n",
              "204   22           4       1                          1     0              1   \n",
              "205   25           4       0                          0     1              1   \n",
              "206   23           6       0                          0     0              1   \n",
              "\n",
              "     RM_quality_time  RM_better_sleep  calmer_stressed  \\\n",
              "0                  1                1                0   \n",
              "1                  0                0                0   \n",
              "2                  1                1                0   \n",
              "3                  1                0                1   \n",
              "4                  1                0                1   \n",
              "..               ...              ...              ...   \n",
              "202                1                1                0   \n",
              "203                1                1                0   \n",
              "204                1                0                1   \n",
              "205                0                0                1   \n",
              "206                1                1                0   \n",
              "\n",
              "     RM_professional_growth  RM_lazy  RM_productive  \\\n",
              "0                         5        1              5   \n",
              "1                         2        2              2   \n",
              "2                         3        3              4   \n",
              "3                         3        4              4   \n",
              "4                         3        3              5   \n",
              "..                      ...      ...            ...   \n",
              "202                       4        1              5   \n",
              "203                       4        4              4   \n",
              "204                       4        4              4   \n",
              "205                       5        3              5   \n",
              "206                       3        3              4   \n",
              "\n",
              "     digital_connect_sufficient  RM_better_work_life_balance  \\\n",
              "0                             1                            5   \n",
              "1                             0                            3   \n",
              "2                             0                            5   \n",
              "3                             0                            4   \n",
              "4                             1                            4   \n",
              "..                          ...                          ...   \n",
              "202                           1                            3   \n",
              "203                           1                            5   \n",
              "204                           0                            4   \n",
              "205                           1                            1   \n",
              "206                           0                            2   \n",
              "\n",
              "     RM_improved_skillset  RM_job_opportunities  \n",
              "0                       5                     2  \n",
              "1                       3                     0  \n",
              "2                       3                     0  \n",
              "3                       5                     2  \n",
              "4                       2                     2  \n",
              "..                    ...                   ...  \n",
              "202                     3                     1  \n",
              "203                     3                     0  \n",
              "204                     3                     1  \n",
              "205                     3                     0  \n",
              "206                     3                     0  \n",
              "\n",
              "[207 rows x 16 columns]"
            ],
            "text/html": [
              "\n",
              "  <div id=\"df-66082af9-87cb-4ae8-ae74-bc5e6f768f35\">\n",
              "    <div class=\"colab-df-container\">\n",
              "      <div>\n",
              "<style scoped>\n",
              "    .dataframe tbody tr th:only-of-type {\n",
              "        vertical-align: middle;\n",
              "    }\n",
              "\n",
              "    .dataframe tbody tr th {\n",
              "        vertical-align: top;\n",
              "    }\n",
              "\n",
              "    .dataframe thead th {\n",
              "        text-align: right;\n",
              "    }\n",
              "</style>\n",
              "<table border=\"1\" class=\"dataframe\">\n",
              "  <thead>\n",
              "    <tr style=\"text-align: right;\">\n",
              "      <th></th>\n",
              "      <th>Age</th>\n",
              "      <th>Occupation</th>\n",
              "      <th>Gender</th>\n",
              "      <th>Same_ofiice_home_location</th>\n",
              "      <th>kids</th>\n",
              "      <th>RM_save_money</th>\n",
              "      <th>RM_quality_time</th>\n",
              "      <th>RM_better_sleep</th>\n",
              "      <th>calmer_stressed</th>\n",
              "      <th>RM_professional_growth</th>\n",
              "      <th>RM_lazy</th>\n",
              "      <th>RM_productive</th>\n",
              "      <th>digital_connect_sufficient</th>\n",
              "      <th>RM_better_work_life_balance</th>\n",
              "      <th>RM_improved_skillset</th>\n",
              "      <th>RM_job_opportunities</th>\n",
              "    </tr>\n",
              "  </thead>\n",
              "  <tbody>\n",
              "    <tr>\n",
              "      <th>0</th>\n",
              "      <td>45</td>\n",
              "      <td>6</td>\n",
              "      <td>0</td>\n",
              "      <td>1</td>\n",
              "      <td>1</td>\n",
              "      <td>1</td>\n",
              "      <td>1</td>\n",
              "      <td>1</td>\n",
              "      <td>0</td>\n",
              "      <td>5</td>\n",
              "      <td>1</td>\n",
              "      <td>5</td>\n",
              "      <td>1</td>\n",
              "      <td>5</td>\n",
              "      <td>5</td>\n",
              "      <td>2</td>\n",
              "    </tr>\n",
              "    <tr>\n",
              "      <th>1</th>\n",
              "      <td>24</td>\n",
              "      <td>6</td>\n",
              "      <td>1</td>\n",
              "      <td>0</td>\n",
              "      <td>0</td>\n",
              "      <td>0</td>\n",
              "      <td>0</td>\n",
              "      <td>0</td>\n",
              "      <td>0</td>\n",
              "      <td>2</td>\n",
              "      <td>2</td>\n",
              "      <td>2</td>\n",
              "      <td>0</td>\n",
              "      <td>3</td>\n",
              "      <td>3</td>\n",
              "      <td>0</td>\n",
              "    </tr>\n",
              "    <tr>\n",
              "      <th>2</th>\n",
              "      <td>53</td>\n",
              "      <td>2</td>\n",
              "      <td>0</td>\n",
              "      <td>1</td>\n",
              "      <td>1</td>\n",
              "      <td>1</td>\n",
              "      <td>1</td>\n",
              "      <td>1</td>\n",
              "      <td>0</td>\n",
              "      <td>3</td>\n",
              "      <td>3</td>\n",
              "      <td>4</td>\n",
              "      <td>0</td>\n",
              "      <td>5</td>\n",
              "      <td>3</td>\n",
              "      <td>0</td>\n",
              "    </tr>\n",
              "    <tr>\n",
              "      <th>3</th>\n",
              "      <td>26</td>\n",
              "      <td>1</td>\n",
              "      <td>0</td>\n",
              "      <td>1</td>\n",
              "      <td>0</td>\n",
              "      <td>1</td>\n",
              "      <td>1</td>\n",
              "      <td>0</td>\n",
              "      <td>1</td>\n",
              "      <td>3</td>\n",
              "      <td>4</td>\n",
              "      <td>4</td>\n",
              "      <td>0</td>\n",
              "      <td>4</td>\n",
              "      <td>5</td>\n",
              "      <td>2</td>\n",
              "    </tr>\n",
              "    <tr>\n",
              "      <th>4</th>\n",
              "      <td>26</td>\n",
              "      <td>5</td>\n",
              "      <td>1</td>\n",
              "      <td>1</td>\n",
              "      <td>0</td>\n",
              "      <td>0</td>\n",
              "      <td>1</td>\n",
              "      <td>0</td>\n",
              "      <td>1</td>\n",
              "      <td>3</td>\n",
              "      <td>3</td>\n",
              "      <td>5</td>\n",
              "      <td>1</td>\n",
              "      <td>4</td>\n",
              "      <td>2</td>\n",
              "      <td>2</td>\n",
              "    </tr>\n",
              "    <tr>\n",
              "      <th>...</th>\n",
              "      <td>...</td>\n",
              "      <td>...</td>\n",
              "      <td>...</td>\n",
              "      <td>...</td>\n",
              "      <td>...</td>\n",
              "      <td>...</td>\n",
              "      <td>...</td>\n",
              "      <td>...</td>\n",
              "      <td>...</td>\n",
              "      <td>...</td>\n",
              "      <td>...</td>\n",
              "      <td>...</td>\n",
              "      <td>...</td>\n",
              "      <td>...</td>\n",
              "      <td>...</td>\n",
              "      <td>...</td>\n",
              "    </tr>\n",
              "    <tr>\n",
              "      <th>202</th>\n",
              "      <td>32</td>\n",
              "      <td>1</td>\n",
              "      <td>0</td>\n",
              "      <td>1</td>\n",
              "      <td>1</td>\n",
              "      <td>1</td>\n",
              "      <td>1</td>\n",
              "      <td>1</td>\n",
              "      <td>0</td>\n",
              "      <td>4</td>\n",
              "      <td>1</td>\n",
              "      <td>5</td>\n",
              "      <td>1</td>\n",
              "      <td>3</td>\n",
              "      <td>3</td>\n",
              "      <td>1</td>\n",
              "    </tr>\n",
              "    <tr>\n",
              "      <th>203</th>\n",
              "      <td>52</td>\n",
              "      <td>0</td>\n",
              "      <td>1</td>\n",
              "      <td>1</td>\n",
              "      <td>1</td>\n",
              "      <td>1</td>\n",
              "      <td>1</td>\n",
              "      <td>1</td>\n",
              "      <td>0</td>\n",
              "      <td>4</td>\n",
              "      <td>4</td>\n",
              "      <td>4</td>\n",
              "      <td>1</td>\n",
              "      <td>5</td>\n",
              "      <td>3</td>\n",
              "      <td>0</td>\n",
              "    </tr>\n",
              "    <tr>\n",
              "      <th>204</th>\n",
              "      <td>22</td>\n",
              "      <td>4</td>\n",
              "      <td>1</td>\n",
              "      <td>1</td>\n",
              "      <td>0</td>\n",
              "      <td>1</td>\n",
              "      <td>1</td>\n",
              "      <td>0</td>\n",
              "      <td>1</td>\n",
              "      <td>4</td>\n",
              "      <td>4</td>\n",
              "      <td>4</td>\n",
              "      <td>0</td>\n",
              "      <td>4</td>\n",
              "      <td>3</td>\n",
              "      <td>1</td>\n",
              "    </tr>\n",
              "    <tr>\n",
              "      <th>205</th>\n",
              "      <td>25</td>\n",
              "      <td>4</td>\n",
              "      <td>0</td>\n",
              "      <td>0</td>\n",
              "      <td>1</td>\n",
              "      <td>1</td>\n",
              "      <td>0</td>\n",
              "      <td>0</td>\n",
              "      <td>1</td>\n",
              "      <td>5</td>\n",
              "      <td>3</td>\n",
              "      <td>5</td>\n",
              "      <td>1</td>\n",
              "      <td>1</td>\n",
              "      <td>3</td>\n",
              "      <td>0</td>\n",
              "    </tr>\n",
              "    <tr>\n",
              "      <th>206</th>\n",
              "      <td>23</td>\n",
              "      <td>6</td>\n",
              "      <td>0</td>\n",
              "      <td>0</td>\n",
              "      <td>0</td>\n",
              "      <td>1</td>\n",
              "      <td>1</td>\n",
              "      <td>1</td>\n",
              "      <td>0</td>\n",
              "      <td>3</td>\n",
              "      <td>3</td>\n",
              "      <td>4</td>\n",
              "      <td>0</td>\n",
              "      <td>2</td>\n",
              "      <td>3</td>\n",
              "      <td>0</td>\n",
              "    </tr>\n",
              "  </tbody>\n",
              "</table>\n",
              "<p>207 rows × 16 columns</p>\n",
              "</div>\n",
              "      <button class=\"colab-df-convert\" onclick=\"convertToInteractive('df-66082af9-87cb-4ae8-ae74-bc5e6f768f35')\"\n",
              "              title=\"Convert this dataframe to an interactive table.\"\n",
              "              style=\"display:none;\">\n",
              "        \n",
              "  <svg xmlns=\"http://www.w3.org/2000/svg\" height=\"24px\"viewBox=\"0 0 24 24\"\n",
              "       width=\"24px\">\n",
              "    <path d=\"M0 0h24v24H0V0z\" fill=\"none\"/>\n",
              "    <path d=\"M18.56 5.44l.94 2.06.94-2.06 2.06-.94-2.06-.94-.94-2.06-.94 2.06-2.06.94zm-11 1L8.5 8.5l.94-2.06 2.06-.94-2.06-.94L8.5 2.5l-.94 2.06-2.06.94zm10 10l.94 2.06.94-2.06 2.06-.94-2.06-.94-.94-2.06-.94 2.06-2.06.94z\"/><path d=\"M17.41 7.96l-1.37-1.37c-.4-.4-.92-.59-1.43-.59-.52 0-1.04.2-1.43.59L10.3 9.45l-7.72 7.72c-.78.78-.78 2.05 0 2.83L4 21.41c.39.39.9.59 1.41.59.51 0 1.02-.2 1.41-.59l7.78-7.78 2.81-2.81c.8-.78.8-2.07 0-2.86zM5.41 20L4 18.59l7.72-7.72 1.47 1.35L5.41 20z\"/>\n",
              "  </svg>\n",
              "      </button>\n",
              "      \n",
              "  <style>\n",
              "    .colab-df-container {\n",
              "      display:flex;\n",
              "      flex-wrap:wrap;\n",
              "      gap: 12px;\n",
              "    }\n",
              "\n",
              "    .colab-df-convert {\n",
              "      background-color: #E8F0FE;\n",
              "      border: none;\n",
              "      border-radius: 50%;\n",
              "      cursor: pointer;\n",
              "      display: none;\n",
              "      fill: #1967D2;\n",
              "      height: 32px;\n",
              "      padding: 0 0 0 0;\n",
              "      width: 32px;\n",
              "    }\n",
              "\n",
              "    .colab-df-convert:hover {\n",
              "      background-color: #E2EBFA;\n",
              "      box-shadow: 0px 1px 2px rgba(60, 64, 67, 0.3), 0px 1px 3px 1px rgba(60, 64, 67, 0.15);\n",
              "      fill: #174EA6;\n",
              "    }\n",
              "\n",
              "    [theme=dark] .colab-df-convert {\n",
              "      background-color: #3B4455;\n",
              "      fill: #D2E3FC;\n",
              "    }\n",
              "\n",
              "    [theme=dark] .colab-df-convert:hover {\n",
              "      background-color: #434B5C;\n",
              "      box-shadow: 0px 1px 3px 1px rgba(0, 0, 0, 0.15);\n",
              "      filter: drop-shadow(0px 1px 2px rgba(0, 0, 0, 0.3));\n",
              "      fill: #FFFFFF;\n",
              "    }\n",
              "  </style>\n",
              "\n",
              "      <script>\n",
              "        const buttonEl =\n",
              "          document.querySelector('#df-66082af9-87cb-4ae8-ae74-bc5e6f768f35 button.colab-df-convert');\n",
              "        buttonEl.style.display =\n",
              "          google.colab.kernel.accessAllowed ? 'block' : 'none';\n",
              "\n",
              "        async function convertToInteractive(key) {\n",
              "          const element = document.querySelector('#df-66082af9-87cb-4ae8-ae74-bc5e6f768f35');\n",
              "          const dataTable =\n",
              "            await google.colab.kernel.invokeFunction('convertToInteractive',\n",
              "                                                     [key], {});\n",
              "          if (!dataTable) return;\n",
              "\n",
              "          const docLinkHtml = 'Like what you see? Visit the ' +\n",
              "            '<a target=\"_blank\" href=https://colab.research.google.com/notebooks/data_table.ipynb>data table notebook</a>'\n",
              "            + ' to learn more about interactive tables.';\n",
              "          element.innerHTML = '';\n",
              "          dataTable['output_type'] = 'display_data';\n",
              "          await google.colab.output.renderOutput(dataTable, element);\n",
              "          const docLink = document.createElement('div');\n",
              "          docLink.innerHTML = docLinkHtml;\n",
              "          element.appendChild(docLink);\n",
              "        }\n",
              "      </script>\n",
              "    </div>\n",
              "  </div>\n",
              "  "
            ]
          },
          "metadata": {},
          "execution_count": 33
        }
      ],
      "source": [
        "X"
      ]
    },
    {
      "cell_type": "markdown",
      "metadata": {
        "id": "n3mG_ErFWK8g"
      },
      "source": [
        "**HEATMAP AND CORRELATION**"
      ]
    },
    {
      "cell_type": "code",
      "execution_count": 34,
      "metadata": {
        "colab": {
          "base_uri": "https://localhost:8080/",
          "height": 810
        },
        "id": "qOmjotgGWEqx",
        "outputId": "249b982f-62a3-4c98-d3a3-3fcc01959a8d"
      },
      "outputs": [
        {
          "output_type": "execute_result",
          "data": {
            "text/plain": [
              "<Axes: >"
            ]
          },
          "metadata": {},
          "execution_count": 34
        },
        {
          "output_type": "display_data",
          "data": {
            "text/plain": [
              "<Figure size 800x700 with 2 Axes>"
            ],
            "image/png": "[encoded data removed]"
          },
          "metadata": {}
        }
      ],
      "source": [
        "plt.figure(figsize=(8,7))\n",
        "sns.heatmap(df.corr())"
      ]
    },
    {
      "cell_type": "code",
      "execution_count": 35,
      "metadata": {
        "colab": {
          "base_uri": "https://localhost:8080/",
          "height": 646
        },
        "id": "b-8moTVwV_us",
        "outputId": "cf5e140a-4191-43e8-a414-78fdc35462ef"
      },
      "outputs": [
        {
          "output_type": "execute_result",
          "data": {
            "text/plain": [
              "                                  Age  Occupation    Gender  \\\n",
              "Age                          1.000000    0.019319 -0.124928   \n",
              "Occupation                   0.019319    1.000000 -0.057597   \n",
              "Gender                      -0.124928   -0.057597  1.000000   \n",
              "Same_ofiice_home_location    0.328243   -0.090965 -0.240898   \n",
              "kids                         0.722709    0.112534 -0.361928   \n",
              "RM_save_money                0.107007   -0.021432 -0.456834   \n",
              "RM_quality_time              0.276092   -0.025878 -0.268282   \n",
              "RM_better_sleep              0.230026   -0.032331 -0.095767   \n",
              "calmer_stressed             -0.192456   -0.026549  0.042201   \n",
              "RM_professional_growth       0.009429   -0.072415 -0.015085   \n",
              "RM_lazy                     -0.244466   -0.361130  0.284404   \n",
              "RM_productive                0.219294    0.183764 -0.430943   \n",
              "digital_connect_sufficient   0.183473   -0.073388 -0.151458   \n",
              "RM_better_work_life_balance  0.407092   -0.013120 -0.088149   \n",
              "RM_improved_skillset         0.022734   -0.009361 -0.069244   \n",
              "RM_job_opportunities        -0.246751   -0.157093 -0.058107   \n",
              "Target                       0.180846   -0.117918  0.047649   \n",
              "\n",
              "                             Same_ofiice_home_location      kids  \\\n",
              "Age                                           0.328243  0.722709   \n",
              "Occupation                                   -0.090965  0.112534   \n",
              "Gender                                       -0.240898 -0.361928   \n",
              "Same_ofiice_home_location                     1.000000  0.334216   \n",
              "kids                                          0.334216  1.000000   \n",
              "RM_save_money                                 0.118043  0.217026   \n",
              "RM_quality_time                               0.342901  0.198292   \n",
              "RM_better_sleep                              -0.001382  0.065150   \n",
              "calmer_stressed                              -0.119151 -0.076836   \n",
              "RM_professional_growth                       -0.098677  0.066461   \n",
              "RM_lazy                                      -0.127622 -0.332222   \n",
              "RM_productive                                 0.346513  0.338529   \n",
              "digital_connect_sufficient                    0.034676  0.347544   \n",
              "RM_better_work_life_balance                   0.254173  0.183021   \n",
              "RM_improved_skillset                          0.096354 -0.045760   \n",
              "RM_job_opportunities                          0.044324 -0.209345   \n",
              "Target                                        0.146418  0.122563   \n",
              "\n",
              "                             RM_save_money  RM_quality_time  RM_better_sleep  \\\n",
              "Age                               0.107007         0.276092         0.230026   \n",
              "Occupation                       -0.021432        -0.025878        -0.032331   \n",
              "Gender                           -0.456834        -0.268282        -0.095767   \n",
              "Same_ofiice_home_location         0.118043         0.342901        -0.001382   \n",
              "kids                              0.217026         0.198292         0.065150   \n",
              "RM_save_money                     1.000000         0.500462         0.381198   \n",
              "RM_quality_time                   0.500462         1.000000         0.476091   \n",
              "RM_better_sleep                   0.381198         0.476091         1.000000   \n",
              "calmer_stressed                  -0.182776        -0.336143        -0.648906   \n",
              "RM_professional_growth            0.107656        -0.277587         0.008160   \n",
              "RM_lazy                          -0.007393        -0.159466        -0.235943   \n",
              "RM_productive                     0.493716         0.335339         0.137184   \n",
              "digital_connect_sufficient        0.278106         0.029134         0.068471   \n",
              "RM_better_work_life_balance       0.290229         0.563422         0.296203   \n",
              "RM_improved_skillset              0.062781         0.106995        -0.092329   \n",
              "RM_job_opportunities              0.065865         0.100889        -0.253084   \n",
              "Target                           -0.006949         0.107770         0.380943   \n",
              "\n",
              "                             calmer_stressed  RM_professional_growth  \\\n",
              "Age                                -0.192456                0.009429   \n",
              "Occupation                         -0.026549               -0.072415   \n",
              "Gender                              0.042201               -0.015085   \n",
              "Same_ofiice_home_location          -0.119151               -0.098677   \n",
              "kids                               -0.076836                0.066461   \n",
              "RM_save_money                      -0.182776                0.107656   \n",
              "RM_quality_time                    -0.336143               -0.277587   \n",
              "RM_better_sleep                    -0.648906                0.008160   \n",
              "calmer_stressed                     1.000000                0.009505   \n",
              "RM_professional_growth              0.009505                1.000000   \n",
              "RM_lazy                             0.254562                0.206439   \n",
              "RM_productive                      -0.094801               -0.036744   \n",
              "digital_connect_sufficient          0.054278               -0.049916   \n",
              "RM_better_work_life_balance        -0.353767               -0.335006   \n",
              "RM_improved_skillset                0.180472               -0.401215   \n",
              "RM_job_opportunities                0.314373               -0.140415   \n",
              "Target                             -0.607373                0.015351   \n",
              "\n",
              "                              RM_lazy  RM_productive  \\\n",
              "Age                         -0.244466       0.219294   \n",
              "Occupation                  -0.361130       0.183764   \n",
              "Gender                       0.284404      -0.430943   \n",
              "Same_ofiice_home_location   -0.127622       0.346513   \n",
              "kids                        -0.332222       0.338529   \n",
              "RM_save_money               -0.007393       0.493716   \n",
              "RM_quality_time             -0.159466       0.335339   \n",
              "RM_better_sleep             -0.235943       0.137184   \n",
              "calmer_stressed              0.254562      -0.094801   \n",
              "RM_professional_growth       0.206439      -0.036744   \n",
              "RM_lazy                      1.000000      -0.341661   \n",
              "RM_productive               -0.341661       1.000000   \n",
              "digital_connect_sufficient  -0.239647       0.421236   \n",
              "RM_better_work_life_balance -0.272403       0.352921   \n",
              "RM_improved_skillset        -0.076836       0.226541   \n",
              "RM_job_opportunities         0.092638       0.014980   \n",
              "Target                      -0.255395       0.194465   \n",
              "\n",
              "                             digital_connect_sufficient  \\\n",
              "Age                                            0.183473   \n",
              "Occupation                                    -0.073388   \n",
              "Gender                                        -0.151458   \n",
              "Same_ofiice_home_location                      0.034676   \n",
              "kids                                           0.347544   \n",
              "RM_save_money                                  0.278106   \n",
              "RM_quality_time                                0.029134   \n",
              "RM_better_sleep                                0.068471   \n",
              "calmer_stressed                                0.054278   \n",
              "RM_professional_growth                        -0.049916   \n",
              "RM_lazy                                       -0.239647   \n",
              "RM_productive                                  0.421236   \n",
              "digital_connect_sufficient                     1.000000   \n",
              "RM_better_work_life_balance                    0.106427   \n",
              "RM_improved_skillset                           0.196474   \n",
              "RM_job_opportunities                           0.086068   \n",
              "Target                                         0.272300   \n",
              "\n",
              "                             RM_better_work_life_balance  \\\n",
              "Age                                             0.407092   \n",
              "Occupation                                     -0.013120   \n",
              "Gender                                         -0.088149   \n",
              "Same_ofiice_home_location                       0.254173   \n",
              "kids                                            0.183021   \n",
              "RM_save_money                                   0.290229   \n",
              "RM_quality_time                                 0.563422   \n",
              "RM_better_sleep                                 0.296203   \n",
              "calmer_stressed                                -0.353767   \n",
              "RM_professional_growth                         -0.335006   \n",
              "RM_lazy                                        -0.272403   \n",
              "RM_productive                                   0.352921   \n",
              "digital_connect_sufficient                      0.106427   \n",
              "RM_better_work_life_balance                     1.000000   \n",
              "RM_improved_skillset                            0.156205   \n",
              "RM_job_opportunities                            0.039965   \n",
              "Target                                          0.398003   \n",
              "\n",
              "                             RM_improved_skillset  RM_job_opportunities  \\\n",
              "Age                                      0.022734             -0.246751   \n",
              "Occupation                              -0.009361             -0.157093   \n",
              "Gender                                  -0.069244             -0.058107   \n",
              "Same_ofiice_home_location                0.096354              0.044324   \n",
              "kids                                    -0.045760             -0.209345   \n",
              "RM_save_money                            0.062781              0.065865   \n",
              "RM_quality_time                          0.106995              0.100889   \n",
              "RM_better_sleep                         -0.092329             -0.253084   \n",
              "calmer_stressed                          0.180472              0.314373   \n",
              "RM_professional_growth                  -0.401215             -0.140415   \n",
              "RM_lazy                                 -0.076836              0.092638   \n",
              "RM_productive                            0.226541              0.014980   \n",
              "digital_connect_sufficient               0.196474              0.086068   \n",
              "RM_better_work_life_balance              0.156205              0.039965   \n",
              "RM_improved_skillset                     1.000000              0.363607   \n",
              "RM_job_opportunities                     0.363607              1.000000   \n",
              "Target                                  -0.017937             -0.002289   \n",
              "\n",
              "                               Target  \n",
              "Age                          0.180846  \n",
              "Occupation                  -0.117918  \n",
              "Gender                       0.047649  \n",
              "Same_ofiice_home_location    0.146418  \n",
              "kids                         0.122563  \n",
              "RM_save_money               -0.006949  \n",
              "RM_quality_time              0.107770  \n",
              "RM_better_sleep              0.380943  \n",
              "calmer_stressed             -0.607373  \n",
              "RM_professional_growth       0.015351  \n",
              "RM_lazy                     -0.255395  \n",
              "RM_productive                0.194465  \n",
              "digital_connect_sufficient   0.272300  \n",
              "RM_better_work_life_balance  0.398003  \n",
              "RM_improved_skillset        -0.017937  \n",
              "RM_job_opportunities        -0.002289  \n",
              "Target                       1.000000  "
            ],
            "text/html": [
              "\n",
              "  <div id=\"df-3ea4b6a7-d81b-4b02-92ba-b4fb4b73431d\">\n",
              "    <div class=\"colab-df-container\">\n",
              "      <div>\n",
              "<style scoped>\n",
              "    .dataframe tbody tr th:only-of-type {\n",
              "        vertical-align: middle;\n",
              "    }\n",
              "\n",
              "    .dataframe tbody tr th {\n",
              "        vertical-align: top;\n",
              "    }\n",
              "\n",
              "    .dataframe thead th {\n",
              "        text-align: right;\n",
              "    }\n",
              "</style>\n",
              "<table border=\"1\" class=\"dataframe\">\n",
              "  <thead>\n",
              "    <tr style=\"text-align: right;\">\n",
              "      <th></th>\n",
              "      <th>Age</th>\n",
              "      <th>Occupation</th>\n",
              "      <th>Gender</th>\n",
              "      <th>Same_ofiice_home_location</th>\n",
              "      <th>kids</th>\n",
              "      <th>RM_save_money</th>\n",
              "      <th>RM_quality_time</th>\n",
              "      <th>RM_better_sleep</th>\n",
              "      <th>calmer_stressed</th>\n",
              "      <th>RM_professional_growth</th>\n",
              "      <th>RM_lazy</th>\n",
              "      <th>RM_productive</th>\n",
              "      <th>digital_connect_sufficient</th>\n",
              "      <th>RM_better_work_life_balance</th>\n",
              "      <th>RM_improved_skillset</th>\n",
              "      <th>RM_job_opportunities</th>\n",
              "      <th>Target</th>\n",
              "    </tr>\n",
              "  </thead>\n",
              "  <tbody>\n",
              "    <tr>\n",
              "      <th>Age</th>\n",
              "      <td>1.000000</td>\n",
              "      <td>0.019319</td>\n",
              "      <td>-0.124928</td>\n",
              "      <td>0.328243</td>\n",
              "      <td>0.722709</td>\n",
              "      <td>0.107007</td>\n",
              "      <td>0.276092</td>\n",
              "      <td>0.230026</td>\n",
              "      <td>-0.192456</td>\n",
              "      <td>0.009429</td>\n",
              "      <td>-0.244466</td>\n",
              "      <td>0.219294</td>\n",
              "      <td>0.183473</td>\n",
              "      <td>0.407092</td>\n",
              "      <td>0.022734</td>\n",
              "      <td>-0.246751</td>\n",
              "      <td>0.180846</td>\n",
              "    </tr>\n",
              "    <tr>\n",
              "      <th>Occupation</th>\n",
              "      <td>0.019319</td>\n",
              "      <td>1.000000</td>\n",
              "      <td>-0.057597</td>\n",
              "      <td>-0.090965</td>\n",
              "      <td>0.112534</td>\n",
              "      <td>-0.021432</td>\n",
              "      <td>-0.025878</td>\n",
              "      <td>-0.032331</td>\n",
              "      <td>-0.026549</td>\n",
              "      <td>-0.072415</td>\n",
              "      <td>-0.361130</td>\n",
              "      <td>0.183764</td>\n",
              "      <td>-0.073388</td>\n",
              "      <td>-0.013120</td>\n",
              "      <td>-0.009361</td>\n",
              "      <td>-0.157093</td>\n",
              "      <td>-0.117918</td>\n",
              "    </tr>\n",
              "    <tr>\n",
              "      <th>Gender</th>\n",
              "      <td>-0.124928</td>\n",
              "      <td>-0.057597</td>\n",
              "      <td>1.000000</td>\n",
              "      <td>-0.240898</td>\n",
              "      <td>-0.361928</td>\n",
              "      <td>-0.456834</td>\n",
              "      <td>-0.268282</td>\n",
              "      <td>-0.095767</td>\n",
              "      <td>0.042201</td>\n",
              "      <td>-0.015085</td>\n",
              "      <td>0.284404</td>\n",
              "      <td>-0.430943</td>\n",
              "      <td>-0.151458</td>\n",
              "      <td>-0.088149</td>\n",
              "      <td>-0.069244</td>\n",
              "      <td>-0.058107</td>\n",
              "      <td>0.047649</td>\n",
              "    </tr>\n",
              "    <tr>\n",
              "      <th>Same_ofiice_home_location</th>\n",
              "      <td>0.328243</td>\n",
              "      <td>-0.090965</td>\n",
              "      <td>-0.240898</td>\n",
              "      <td>1.000000</td>\n",
              "      <td>0.334216</td>\n",
              "      <td>0.118043</td>\n",
              "      <td>0.342901</td>\n",
              "      <td>-0.001382</td>\n",
              "      <td>-0.119151</td>\n",
              "      <td>-0.098677</td>\n",
              "      <td>-0.127622</td>\n",
              "      <td>0.346513</td>\n",
              "      <td>0.034676</td>\n",
              "      <td>0.254173</td>\n",
              "      <td>0.096354</td>\n",
              "      <td>0.044324</td>\n",
              "      <td>0.146418</td>\n",
              "    </tr>\n",
              "    <tr>\n",
              "      <th>kids</th>\n",
              "      <td>0.722709</td>\n",
              "      <td>0.112534</td>\n",
              "      <td>-0.361928</td>\n",
              "      <td>0.334216</td>\n",
              "      <td>1.000000</td>\n",
              "      <td>0.217026</td>\n",
              "      <td>0.198292</td>\n",
              "      <td>0.065150</td>\n",
              "      <td>-0.076836</td>\n",
              "      <td>0.066461</td>\n",
              "      <td>-0.332222</td>\n",
              "      <td>0.338529</td>\n",
              "      <td>0.347544</td>\n",
              "      <td>0.183021</td>\n",
              "      <td>-0.045760</td>\n",
              "      <td>-0.209345</td>\n",
              "      <td>0.122563</td>\n",
              "    </tr>\n",
              "    <tr>\n",
              "      <th>RM_save_money</th>\n",
              "      <td>0.107007</td>\n",
              "      <td>-0.021432</td>\n",
              "      <td>-0.456834</td>\n",
              "      <td>0.118043</td>\n",
              "      <td>0.217026</td>\n",
              "      <td>1.000000</td>\n",
              "      <td>0.500462</td>\n",
              "      <td>0.381198</td>\n",
              "      <td>-0.182776</td>\n",
              "      <td>0.107656</td>\n",
              "      <td>-0.007393</td>\n",
              "      <td>0.493716</td>\n",
              "      <td>0.278106</td>\n",
              "      <td>0.290229</td>\n",
              "      <td>0.062781</td>\n",
              "      <td>0.065865</td>\n",
              "      <td>-0.006949</td>\n",
              "    </tr>\n",
              "    <tr>\n",
              "      <th>RM_quality_time</th>\n",
              "      <td>0.276092</td>\n",
              "      <td>-0.025878</td>\n",
              "      <td>-0.268282</td>\n",
              "      <td>0.342901</td>\n",
              "      <td>0.198292</td>\n",
              "      <td>0.500462</td>\n",
              "      <td>1.000000</td>\n",
              "      <td>0.476091</td>\n",
              "      <td>-0.336143</td>\n",
              "      <td>-0.277587</td>\n",
              "      <td>-0.159466</td>\n",
              "      <td>0.335339</td>\n",
              "      <td>0.029134</td>\n",
              "      <td>0.563422</td>\n",
              "      <td>0.106995</td>\n",
              "      <td>0.100889</td>\n",
              "      <td>0.107770</td>\n",
              "    </tr>\n",
              "    <tr>\n",
              "      <th>RM_better_sleep</th>\n",
              "      <td>0.230026</td>\n",
              "      <td>-0.032331</td>\n",
              "      <td>-0.095767</td>\n",
              "      <td>-0.001382</td>\n",
              "      <td>0.065150</td>\n",
              "      <td>0.381198</td>\n",
              "      <td>0.476091</td>\n",
              "      <td>1.000000</td>\n",
              "      <td>-0.648906</td>\n",
              "      <td>0.008160</td>\n",
              "      <td>-0.235943</td>\n",
              "      <td>0.137184</td>\n",
              "      <td>0.068471</td>\n",
              "      <td>0.296203</td>\n",
              "      <td>-0.092329</td>\n",
              "      <td>-0.253084</td>\n",
              "      <td>0.380943</td>\n",
              "    </tr>\n",
              "    <tr>\n",
              "      <th>calmer_stressed</th>\n",
              "      <td>-0.192456</td>\n",
              "      <td>-0.026549</td>\n",
              "      <td>0.042201</td>\n",
              "      <td>-0.119151</td>\n",
              "      <td>-0.076836</td>\n",
              "      <td>-0.182776</td>\n",
              "      <td>-0.336143</td>\n",
              "      <td>-0.648906</td>\n",
              "      <td>1.000000</td>\n",
              "      <td>0.009505</td>\n",
              "      <td>0.254562</td>\n",
              "      <td>-0.094801</td>\n",
              "      <td>0.054278</td>\n",
              "      <td>-0.353767</td>\n",
              "      <td>0.180472</td>\n",
              "      <td>0.314373</td>\n",
              "      <td>-0.607373</td>\n",
              "    </tr>\n",
              "    <tr>\n",
              "      <th>RM_professional_growth</th>\n",
              "      <td>0.009429</td>\n",
              "      <td>-0.072415</td>\n",
              "      <td>-0.015085</td>\n",
              "      <td>-0.098677</td>\n",
              "      <td>0.066461</td>\n",
              "      <td>0.107656</td>\n",
              "      <td>-0.277587</td>\n",
              "      <td>0.008160</td>\n",
              "      <td>0.009505</td>\n",
              "      <td>1.000000</td>\n",
              "      <td>0.206439</td>\n",
              "      <td>-0.036744</td>\n",
              "      <td>-0.049916</td>\n",
              "      <td>-0.335006</td>\n",
              "      <td>-0.401215</td>\n",
              "      <td>-0.140415</td>\n",
              "      <td>0.015351</td>\n",
              "    </tr>\n",
              "    <tr>\n",
              "      <th>RM_lazy</th>\n",
              "      <td>-0.244466</td>\n",
              "      <td>-0.361130</td>\n",
              "      <td>0.284404</td>\n",
              "      <td>-0.127622</td>\n",
              "      <td>-0.332222</td>\n",
              "      <td>-0.007393</td>\n",
              "      <td>-0.159466</td>\n",
              "      <td>-0.235943</td>\n",
              "      <td>0.254562</td>\n",
              "      <td>0.206439</td>\n",
              "      <td>1.000000</td>\n",
              "      <td>-0.341661</td>\n",
              "      <td>-0.239647</td>\n",
              "      <td>-0.272403</td>\n",
              "      <td>-0.076836</td>\n",
              "      <td>0.092638</td>\n",
              "      <td>-0.255395</td>\n",
              "    </tr>\n",
              "    <tr>\n",
              "      <th>RM_productive</th>\n",
              "      <td>0.219294</td>\n",
              "      <td>0.183764</td>\n",
              "      <td>-0.430943</td>\n",
              "      <td>0.346513</td>\n",
              "      <td>0.338529</td>\n",
              "      <td>0.493716</td>\n",
              "      <td>0.335339</td>\n",
              "      <td>0.137184</td>\n",
              "      <td>-0.094801</td>\n",
              "      <td>-0.036744</td>\n",
              "      <td>-0.341661</td>\n",
              "      <td>1.000000</td>\n",
              "      <td>0.421236</td>\n",
              "      <td>0.352921</td>\n",
              "      <td>0.226541</td>\n",
              "      <td>0.014980</td>\n",
              "      <td>0.194465</td>\n",
              "    </tr>\n",
              "    <tr>\n",
              "      <th>digital_connect_sufficient</th>\n",
              "      <td>0.183473</td>\n",
              "      <td>-0.073388</td>\n",
              "      <td>-0.151458</td>\n",
              "      <td>0.034676</td>\n",
              "      <td>0.347544</td>\n",
              "      <td>0.278106</td>\n",
              "      <td>0.029134</td>\n",
              "      <td>0.068471</td>\n",
              "      <td>0.054278</td>\n",
              "      <td>-0.049916</td>\n",
              "      <td>-0.239647</td>\n",
              "      <td>0.421236</td>\n",
              "      <td>1.000000</td>\n",
              "      <td>0.106427</td>\n",
              "      <td>0.196474</td>\n",
              "      <td>0.086068</td>\n",
              "      <td>0.272300</td>\n",
              "    </tr>\n",
              "    <tr>\n",
              "      <th>RM_better_work_life_balance</th>\n",
              "      <td>0.407092</td>\n",
              "      <td>-0.013120</td>\n",
              "      <td>-0.088149</td>\n",
              "      <td>0.254173</td>\n",
              "      <td>0.183021</td>\n",
              "      <td>0.290229</td>\n",
              "      <td>0.563422</td>\n",
              "      <td>0.296203</td>\n",
              "      <td>-0.353767</td>\n",
              "      <td>-0.335006</td>\n",
              "      <td>-0.272403</td>\n",
              "      <td>0.352921</td>\n",
              "      <td>0.106427</td>\n",
              "      <td>1.000000</td>\n",
              "      <td>0.156205</td>\n",
              "      <td>0.039965</td>\n",
              "      <td>0.398003</td>\n",
              "    </tr>\n",
              "    <tr>\n",
              "      <th>RM_improved_skillset</th>\n",
              "      <td>0.022734</td>\n",
              "      <td>-0.009361</td>\n",
              "      <td>-0.069244</td>\n",
              "      <td>0.096354</td>\n",
              "      <td>-0.045760</td>\n",
              "      <td>0.062781</td>\n",
              "      <td>0.106995</td>\n",
              "      <td>-0.092329</td>\n",
              "      <td>0.180472</td>\n",
              "      <td>-0.401215</td>\n",
              "      <td>-0.076836</td>\n",
              "      <td>0.226541</td>\n",
              "      <td>0.196474</td>\n",
              "      <td>0.156205</td>\n",
              "      <td>1.000000</td>\n",
              "      <td>0.363607</td>\n",
              "      <td>-0.017937</td>\n",
              "    </tr>\n",
              "    <tr>\n",
              "      <th>RM_job_opportunities</th>\n",
              "      <td>-0.246751</td>\n",
              "      <td>-0.157093</td>\n",
              "      <td>-0.058107</td>\n",
              "      <td>0.044324</td>\n",
              "      <td>-0.209345</td>\n",
              "      <td>0.065865</td>\n",
              "      <td>0.100889</td>\n",
              "      <td>-0.253084</td>\n",
              "      <td>0.314373</td>\n",
              "      <td>-0.140415</td>\n",
              "      <td>0.092638</td>\n",
              "      <td>0.014980</td>\n",
              "      <td>0.086068</td>\n",
              "      <td>0.039965</td>\n",
              "      <td>0.363607</td>\n",
              "      <td>1.000000</td>\n",
              "      <td>-0.002289</td>\n",
              "    </tr>\n",
              "    <tr>\n",
              "      <th>Target</th>\n",
              "      <td>0.180846</td>\n",
              "      <td>-0.117918</td>\n",
              "      <td>0.047649</td>\n",
              "      <td>0.146418</td>\n",
              "      <td>0.122563</td>\n",
              "      <td>-0.006949</td>\n",
              "      <td>0.107770</td>\n",
              "      <td>0.380943</td>\n",
              "      <td>-0.607373</td>\n",
              "      <td>0.015351</td>\n",
              "      <td>-0.255395</td>\n",
              "      <td>0.194465</td>\n",
              "      <td>0.272300</td>\n",
              "      <td>0.398003</td>\n",
              "      <td>-0.017937</td>\n",
              "      <td>-0.002289</td>\n",
              "      <td>1.000000</td>\n",
              "    </tr>\n",
              "  </tbody>\n",
              "</table>\n",
              "</div>\n",
              "      <button class=\"colab-df-convert\" onclick=\"convertToInteractive('df-3ea4b6a7-d81b-4b02-92ba-b4fb4b73431d')\"\n",
              "              title=\"Convert this dataframe to an interactive table.\"\n",
              "              style=\"display:none;\">\n",
              "        \n",
              "  <svg xmlns=\"http://www.w3.org/2000/svg\" height=\"24px\"viewBox=\"0 0 24 24\"\n",
              "       width=\"24px\">\n",
              "    <path d=\"M0 0h24v24H0V0z\" fill=\"none\"/>\n",
              "    <path d=\"M18.56 5.44l.94 2.06.94-2.06 2.06-.94-2.06-.94-.94-2.06-.94 2.06-2.06.94zm-11 1L8.5 8.5l.94-2.06 2.06-.94-2.06-.94L8.5 2.5l-.94 2.06-2.06.94zm10 10l.94 2.06.94-2.06 2.06-.94-2.06-.94-.94-2.06-.94 2.06-2.06.94z\"/><path d=\"M17.41 7.96l-1.37-1.37c-.4-.4-.92-.59-1.43-.59-.52 0-1.04.2-1.43.59L10.3 9.45l-7.72 7.72c-.78.78-.78 2.05 0 2.83L4 21.41c.39.39.9.59 1.41.59.51 0 1.02-.2 1.41-.59l7.78-7.78 2.81-2.81c.8-.78.8-2.07 0-2.86zM5.41 20L4 18.59l7.72-7.72 1.47 1.35L5.41 20z\"/>\n",
              "  </svg>\n",
              "      </button>\n",
              "      \n",
              "  <style>\n",
              "    .colab-df-container {\n",
              "      display:flex;\n",
              "      flex-wrap:wrap;\n",
              "      gap: 12px;\n",
              "    }\n",
              "\n",
              "    .colab-df-convert {\n",
              "      background-color: #E8F0FE;\n",
              "      border: none;\n",
              "      border-radius: 50%;\n",
              "      cursor: pointer;\n",
              "      display: none;\n",
              "      fill: #1967D2;\n",
              "      height: 32px;\n",
              "      padding: 0 0 0 0;\n",
              "      width: 32px;\n",
              "    }\n",
              "\n",
              "    .colab-df-convert:hover {\n",
              "      background-color: #E2EBFA;\n",
              "      box-shadow: 0px 1px 2px rgba(60, 64, 67, 0.3), 0px 1px 3px 1px rgba(60, 64, 67, 0.15);\n",
              "      fill: #174EA6;\n",
              "    }\n",
              "\n",
              "    [theme=dark] .colab-df-convert {\n",
              "      background-color: #3B4455;\n",
              "      fill: #D2E3FC;\n",
              "    }\n",
              "\n",
              "    [theme=dark] .colab-df-convert:hover {\n",
              "      background-color: #434B5C;\n",
              "      box-shadow: 0px 1px 3px 1px rgba(0, 0, 0, 0.15);\n",
              "      filter: drop-shadow(0px 1px 2px rgba(0, 0, 0, 0.3));\n",
              "      fill: #FFFFFF;\n",
              "    }\n",
              "  </style>\n",
              "\n",
              "      <script>\n",
              "        const buttonEl =\n",
              "          document.querySelector('#df-3ea4b6a7-d81b-4b02-92ba-b4fb4b73431d button.colab-df-convert');\n",
              "        buttonEl.style.display =\n",
              "          google.colab.kernel.accessAllowed ? 'block' : 'none';\n",
              "\n",
              "        async function convertToInteractive(key) {\n",
              "          const element = document.querySelector('#df-3ea4b6a7-d81b-4b02-92ba-b4fb4b73431d');\n",
              "          const dataTable =\n",
              "            await google.colab.kernel.invokeFunction('convertToInteractive',\n",
              "                                                     [key], {});\n",
              "          if (!dataTable) return;\n",
              "\n",
              "          const docLinkHtml = 'Like what you see? Visit the ' +\n",
              "            '<a target=\"_blank\" href=https://colab.research.google.com/notebooks/data_table.ipynb>data table notebook</a>'\n",
              "            + ' to learn more about interactive tables.';\n",
              "          element.innerHTML = '';\n",
              "          dataTable['output_type'] = 'display_data';\n",
              "          await google.colab.output.renderOutput(dataTable, element);\n",
              "          const docLink = document.createElement('div');\n",
              "          docLink.innerHTML = docLinkHtml;\n",
              "          element.appendChild(docLink);\n",
              "        }\n",
              "      </script>\n",
              "    </div>\n",
              "  </div>\n",
              "  "
            ]
          },
          "metadata": {},
          "execution_count": 35
        }
      ],
      "source": [
        "df.corr()"
      ]
    },
    {
      "cell_type": "code",
      "execution_count": 36,
      "metadata": {
        "id": "jwOdLN-yV9_n"
      },
      "outputs": [],
      "source": [
        "def correlate(ds,threshold):\n",
        "  col_corr = set()\n",
        "  cor_matrix = ds.corr()\n",
        "  for i in range(len(cor_matrix.columns)):\n",
        "    for j in range(i):\n",
        "      if abs(cor_matrix.iloc[i,j]) > threshold:\n",
        "        col_corr.add(cor_matrix.columns[i])\n",
        "  return col_corr"
      ]
    },
    {
      "cell_type": "code",
      "execution_count": 37,
      "metadata": {
        "colab": {
          "base_uri": "https://localhost:8080/"
        },
        "id": "IEL4fqN9WSHs",
        "outputId": "234836ec-1444-4363-c8ad-4a3c6f317da4"
      },
      "outputs": [
        {
          "output_type": "stream",
          "name": "stdout",
          "text": [
            "set()\n",
            "0\n"
          ]
        }
      ],
      "source": [
        "cor_features = correlate(df,0.9)\n",
        "print(cor_features)\n",
        "print(len(cor_features))"
      ]
    },
    {
      "cell_type": "code",
      "execution_count": 38,
      "metadata": {
        "id": "iIHdWPz7Waq1"
      },
      "outputs": [],
      "source": [
        "df.drop(cor_features,axis =1,inplace = True)"
      ]
    },
    {
      "cell_type": "code",
      "execution_count": 39,
      "metadata": {
        "colab": {
          "base_uri": "https://localhost:8080/"
        },
        "id": "fTzrL50aWd9e",
        "outputId": "9f23c8e7-45e3-47f1-a29b-3ef8584436f5"
      },
      "outputs": [
        {
          "output_type": "execute_result",
          "data": {
            "text/plain": [
              "(207, 17)"
            ]
          },
          "metadata": {},
          "execution_count": 39
        }
      ],
      "source": [
        "df.shape"
      ]
    },
    {
      "cell_type": "markdown",
      "metadata": {
        "id": "jv1MsocBeOgi"
      },
      "source": [
        "**TRAIN TEST SPLIT**"
      ]
    },
    {
      "cell_type": "code",
      "execution_count": 40,
      "metadata": {
        "id": "VMggBOHMeU4q"
      },
      "outputs": [],
      "source": [
        "X_train, X_test, y_train, y_test = train_test_split( X, y, test_size=0.2\n",
        "                                                    , random_state=0)"
      ]
    },
    {
      "cell_type": "code",
      "execution_count": 41,
      "metadata": {
        "colab": {
          "base_uri": "https://localhost:8080/"
        },
        "id": "ZCJAeQQVeamk",
        "outputId": "cf7b2e4e-7233-409b-d00f-1c9e1c560048"
      },
      "outputs": [
        {
          "output_type": "execute_result",
          "data": {
            "text/plain": [
              "(165, 16)"
            ]
          },
          "metadata": {},
          "execution_count": 41
        }
      ],
      "source": [
        "X_train.shape"
      ]
    },
    {
      "cell_type": "code",
      "execution_count": 42,
      "metadata": {
        "colab": {
          "base_uri": "https://localhost:8080/"
        },
        "id": "NFJqN8hFe_61",
        "outputId": "7012c240-c312-485f-8ead-e4a6530812a4"
      },
      "outputs": [
        {
          "output_type": "execute_result",
          "data": {
            "text/plain": [
              "(42, 16)"
            ]
          },
          "metadata": {},
          "execution_count": 42
        }
      ],
      "source": [
        "X_test.shape"
      ]
    },
    {
      "cell_type": "code",
      "execution_count": 43,
      "metadata": {
        "id": "8HEdgIvCfiBW"
      },
      "outputs": [],
      "source": [
        "# X_train"
      ]
    },
    {
      "cell_type": "code",
      "execution_count": 44,
      "metadata": {
        "id": "8YBfOib7fle-"
      },
      "outputs": [],
      "source": [
        "# X_test"
      ]
    },
    {
      "cell_type": "markdown",
      "metadata": {
        "id": "zWFRFfnqgTjk"
      },
      "source": [
        "**STANDARDISATION**"
      ]
    },
    {
      "cell_type": "code",
      "execution_count": 45,
      "metadata": {
        "id": "rtLpaN_QfCG_"
      },
      "outputs": [],
      "source": [
        "Standardisation = preprocessing.StandardScaler()\n",
        "xtrain = Standardisation.fit_transform(X_train)\n",
        "xtest = Standardisation.fit_transform(X_test)"
      ]
    },
    {
      "cell_type": "markdown",
      "metadata": {
        "id": "G1fOJfpOW9iw"
      },
      "source": [
        "**SVC- SUPPORT VECTOR CLASSIFIER**"
      ]
    },
    {
      "cell_type": "code",
      "execution_count": 46,
      "metadata": {
        "colab": {
          "base_uri": "https://localhost:8080/",
          "height": 75
        },
        "id": "xYCRBhnOfO1G",
        "outputId": "8d49aa7b-2f25-49d8-f44c-65e44187cc29"
      },
      "outputs": [
        {
          "output_type": "execute_result",
          "data": {
            "text/plain": [
              "SVC()"
            ],
            "text/html": [
              "<style>#sk-container-id-1 {color: black;background-color: white;}#sk-container-id-1 pre{padding: 0;}#sk-container-id-1 div.sk-toggleable {background-color: white;}#sk-container-id-1 label.sk-toggleable__label {cursor: pointer;display: block;width: 100%;margin-bottom: 0;padding: 0.3em;box-sizing: border-box;text-align: center;}#sk-container-id-1 label.sk-toggleable__label-arrow:before {content: \"▸\";float: left;margin-right: 0.25em;color: #696969;}#sk-container-id-1 label.sk-toggleable__label-arrow:hover:before {color: black;}#sk-container-id-1 div.sk-estimator:hover label.sk-toggleable__label-arrow:before {color: black;}#sk-container-id-1 div.sk-toggleable__content {max-height: 0;max-width: 0;overflow: hidden;text-align: left;background-color: #f0f8ff;}#sk-container-id-1 div.sk-toggleable__content pre {margin: 0.2em;color: black;border-radius: 0.25em;background-color: #f0f8ff;}#sk-container-id-1 input.sk-toggleable__control:checked~div.sk-toggleable__content {max-height: 200px;max-width: 100%;overflow: auto;}#sk-container-id-1 input.sk-toggleable__control:checked~label.sk-toggleable__label-arrow:before {content: \"▾\";}#sk-container-id-1 div.sk-estimator input.sk-toggleable__control:checked~label.sk-toggleable__label {background-color: #d4ebff;}#sk-container-id-1 div.sk-label input.sk-toggleable__control:checked~label.sk-toggleable__label {background-color: #d4ebff;}#sk-container-id-1 input.sk-hidden--visually {border: 0;clip: rect(1px 1px 1px 1px);clip: rect(1px, 1px, 1px, 1px);height: 1px;margin: -1px;overflow: hidden;padding: 0;position: absolute;width: 1px;}#sk-container-id-1 div.sk-estimator {font-family: monospace;background-color: #f0f8ff;border: 1px dotted black;border-radius: 0.25em;box-sizing: border-box;margin-bottom: 0.5em;}#sk-container-id-1 div.sk-estimator:hover {background-color: #d4ebff;}#sk-container-id-1 div.sk-parallel-item::after {content: \"\";width: 100%;border-bottom: 1px solid gray;flex-grow: 1;}#sk-container-id-1 div.sk-label:hover label.sk-toggleable__label {background-color: #d4ebff;}#sk-container-id-1 div.sk-serial::before {content: \"\";position: absolute;border-left: 1px solid gray;box-sizing: border-box;top: 0;bottom: 0;left: 50%;z-index: 0;}#sk-container-id-1 div.sk-serial {display: flex;flex-direction: column;align-items: center;background-color: white;padding-right: 0.2em;padding-left: 0.2em;position: relative;}#sk-container-id-1 div.sk-item {position: relative;z-index: 1;}#sk-container-id-1 div.sk-parallel {display: flex;align-items: stretch;justify-content: center;background-color: white;position: relative;}#sk-container-id-1 div.sk-item::before, #sk-container-id-1 div.sk-parallel-item::before {content: \"\";position: absolute;border-left: 1px solid gray;box-sizing: border-box;top: 0;bottom: 0;left: 50%;z-index: -1;}#sk-container-id-1 div.sk-parallel-item {display: flex;flex-direction: column;z-index: 1;position: relative;background-color: white;}#sk-container-id-1 div.sk-parallel-item:first-child::after {align-self: flex-end;width: 50%;}#sk-container-id-1 div.sk-parallel-item:last-child::after {align-self: flex-start;width: 50%;}#sk-container-id-1 div.sk-parallel-item:only-child::after {width: 0;}#sk-container-id-1 div.sk-dashed-wrapped {border: 1px dashed gray;margin: 0 0.4em 0.5em 0.4em;box-sizing: border-box;padding-bottom: 0.4em;background-color: white;}#sk-container-id-1 div.sk-label label {font-family: monospace;font-weight: bold;display: inline-block;line-height: 1.2em;}#sk-container-id-1 div.sk-label-container {text-align: center;}#sk-container-id-1 div.sk-container {/* jupyter's `normalize.less` sets `[hidden] { display: none; }` but bootstrap.min.css set `[hidden] { display: none !important; }` so we also need the `!important` here to be able to override the default hidden behavior on the sphinx rendered scikit-learn.org. See: https://github.com/scikit-learn/scikit-learn/issues/21755 */display: inline-block !important;position: relative;}#sk-container-id-1 div.sk-text-repr-fallback {display: none;}</style><div id=\"sk-container-id-1\" class=\"sk-top-container\"><div class=\"sk-text-repr-fallback\"><pre>SVC()</pre><b>In a Jupyter environment, please rerun this cell to show the HTML representation or trust the notebook. <br />On GitHub, the HTML representation is unable to render, please try loading this page with nbviewer.org.</b></div><div class=\"sk-container\" hidden><div class=\"sk-item\"><div class=\"sk-estimator sk-toggleable\"><input class=\"sk-toggleable__control sk-hidden--visually\" id=\"sk-estimator-id-1\" type=\"checkbox\" checked><label for=\"sk-estimator-id-1\" class=\"sk-toggleable__label sk-toggleable__label-arrow\">SVC</label><div class=\"sk-toggleable__content\"><pre>SVC()</pre></div></div></div></div></div>"
            ]
          },
          "metadata": {},
          "execution_count": 46
        }
      ],
      "source": [
        "from sklearn import metrics\n",
        "from sklearn.metrics import confusion_matrix, accuracy_score\n",
        "\n",
        "# Building a Support Vector Machine on train data\n",
        "svc_model = SVC()\n",
        "svc_model.fit(xtrain, y_train)"
      ]
    },
    {
      "cell_type": "code",
      "execution_count": 47,
      "metadata": {
        "colab": {
          "base_uri": "https://localhost:8080/"
        },
        "id": "CyahJIsYUPJn",
        "outputId": "eb6cd78e-416e-407c-a489-f8420b840c39"
      },
      "outputs": [
        {
          "output_type": "stream",
          "name": "stdout",
          "text": [
            "[[24  3]\n",
            " [ 0 15]]\n"
          ]
        }
      ],
      "source": [
        "y_pred = svc_model .predict(xtest)\n",
        "print(confusion_matrix(y_test, y_pred))"
      ]
    },
    {
      "cell_type": "code",
      "execution_count": 48,
      "metadata": {
        "colab": {
          "base_uri": "https://localhost:8080/"
        },
        "id": "-nVymc2aiiXV",
        "outputId": "30aaf523-92ef-4cbd-d909-2ad043cdb053"
      },
      "outputs": [
        {
          "output_type": "stream",
          "name": "stdout",
          "text": [
            "92.85714285714286\n"
          ]
        }
      ],
      "source": [
        "acc1= metrics.accuracy_score(y_test,y_pred)*100\n",
        "print(acc1)\n",
        "# acc1= int(acc1)"
      ]
    },
    {
      "cell_type": "code",
      "execution_count": 49,
      "metadata": {
        "colab": {
          "base_uri": "https://localhost:8080/",
          "height": 363
        },
        "id": "wIZPGLysWB33",
        "outputId": "44b98c69-3a70-4f69-93fd-5cfef28793f0"
      },
      "outputs": [
        {
          "output_type": "execute_result",
          "data": {
            "text/plain": [
              "     actual  Predicted\n",
              "137       0          0\n",
              "71        0          0\n",
              "185       0          0\n",
              "144       0          0\n",
              "178       1          1\n",
              "118       0          0\n",
              "16        0          0\n",
              "134       1          1\n",
              "146       0          1\n",
              "22        0          0"
            ],
            "text/html": [
              "\n",
              "  <div id=\"df-cc38def8-10c6-4710-9cce-1d3fe9599735\">\n",
              "    <div class=\"colab-df-container\">\n",
              "      <div>\n",
              "<style scoped>\n",
              "    .dataframe tbody tr th:only-of-type {\n",
              "        vertical-align: middle;\n",
              "    }\n",
              "\n",
              "    .dataframe tbody tr th {\n",
              "        vertical-align: top;\n",
              "    }\n",
              "\n",
              "    .dataframe thead th {\n",
              "        text-align: right;\n",
              "    }\n",
              "</style>\n",
              "<table border=\"1\" class=\"dataframe\">\n",
              "  <thead>\n",
              "    <tr style=\"text-align: right;\">\n",
              "      <th></th>\n",
              "      <th>actual</th>\n",
              "      <th>Predicted</th>\n",
              "    </tr>\n",
              "  </thead>\n",
              "  <tbody>\n",
              "    <tr>\n",
              "      <th>137</th>\n",
              "      <td>0</td>\n",
              "      <td>0</td>\n",
              "    </tr>\n",
              "    <tr>\n",
              "      <th>71</th>\n",
              "      <td>0</td>\n",
              "      <td>0</td>\n",
              "    </tr>\n",
              "    <tr>\n",
              "      <th>185</th>\n",
              "      <td>0</td>\n",
              "      <td>0</td>\n",
              "    </tr>\n",
              "    <tr>\n",
              "      <th>144</th>\n",
              "      <td>0</td>\n",
              "      <td>0</td>\n",
              "    </tr>\n",
              "    <tr>\n",
              "      <th>178</th>\n",
              "      <td>1</td>\n",
              "      <td>1</td>\n",
              "    </tr>\n",
              "    <tr>\n",
              "      <th>118</th>\n",
              "      <td>0</td>\n",
              "      <td>0</td>\n",
              "    </tr>\n",
              "    <tr>\n",
              "      <th>16</th>\n",
              "      <td>0</td>\n",
              "      <td>0</td>\n",
              "    </tr>\n",
              "    <tr>\n",
              "      <th>134</th>\n",
              "      <td>1</td>\n",
              "      <td>1</td>\n",
              "    </tr>\n",
              "    <tr>\n",
              "      <th>146</th>\n",
              "      <td>0</td>\n",
              "      <td>1</td>\n",
              "    </tr>\n",
              "    <tr>\n",
              "      <th>22</th>\n",
              "      <td>0</td>\n",
              "      <td>0</td>\n",
              "    </tr>\n",
              "  </tbody>\n",
              "</table>\n",
              "</div>\n",
              "      <button class=\"colab-df-convert\" onclick=\"convertToInteractive('df-cc38def8-10c6-4710-9cce-1d3fe9599735')\"\n",
              "              title=\"Convert this dataframe to an interactive table.\"\n",
              "              style=\"display:none;\">\n",
              "        \n",
              "  <svg xmlns=\"http://www.w3.org/2000/svg\" height=\"24px\"viewBox=\"0 0 24 24\"\n",
              "       width=\"24px\">\n",
              "    <path d=\"M0 0h24v24H0V0z\" fill=\"none\"/>\n",
              "    <path d=\"M18.56 5.44l.94 2.06.94-2.06 2.06-.94-2.06-.94-.94-2.06-.94 2.06-2.06.94zm-11 1L8.5 8.5l.94-2.06 2.06-.94-2.06-.94L8.5 2.5l-.94 2.06-2.06.94zm10 10l.94 2.06.94-2.06 2.06-.94-2.06-.94-.94-2.06-.94 2.06-2.06.94z\"/><path d=\"M17.41 7.96l-1.37-1.37c-.4-.4-.92-.59-1.43-.59-.52 0-1.04.2-1.43.59L10.3 9.45l-7.72 7.72c-.78.78-.78 2.05 0 2.83L4 21.41c.39.39.9.59 1.41.59.51 0 1.02-.2 1.41-.59l7.78-7.78 2.81-2.81c.8-.78.8-2.07 0-2.86zM5.41 20L4 18.59l7.72-7.72 1.47 1.35L5.41 20z\"/>\n",
              "  </svg>\n",
              "      </button>\n",
              "      \n",
              "  <style>\n",
              "    .colab-df-container {\n",
              "      display:flex;\n",
              "      flex-wrap:wrap;\n",
              "      gap: 12px;\n",
              "    }\n",
              "\n",
              "    .colab-df-convert {\n",
              "      background-color: #E8F0FE;\n",
              "      border: none;\n",
              "      border-radius: 50%;\n",
              "      cursor: pointer;\n",
              "      display: none;\n",
              "      fill: #1967D2;\n",
              "      height: 32px;\n",
              "      padding: 0 0 0 0;\n",
              "      width: 32px;\n",
              "    }\n",
              "\n",
              "    .colab-df-convert:hover {\n",
              "      background-color: #E2EBFA;\n",
              "      box-shadow: 0px 1px 2px rgba(60, 64, 67, 0.3), 0px 1px 3px 1px rgba(60, 64, 67, 0.15);\n",
              "      fill: #174EA6;\n",
              "    }\n",
              "\n",
              "    [theme=dark] .colab-df-convert {\n",
              "      background-color: #3B4455;\n",
              "      fill: #D2E3FC;\n",
              "    }\n",
              "\n",
              "    [theme=dark] .colab-df-convert:hover {\n",
              "      background-color: #434B5C;\n",
              "      box-shadow: 0px 1px 3px 1px rgba(0, 0, 0, 0.15);\n",
              "      filter: drop-shadow(0px 1px 2px rgba(0, 0, 0, 0.3));\n",
              "      fill: #FFFFFF;\n",
              "    }\n",
              "  </style>\n",
              "\n",
              "      <script>\n",
              "        const buttonEl =\n",
              "          document.querySelector('#df-cc38def8-10c6-4710-9cce-1d3fe9599735 button.colab-df-convert');\n",
              "        buttonEl.style.display =\n",
              "          google.colab.kernel.accessAllowed ? 'block' : 'none';\n",
              "\n",
              "        async function convertToInteractive(key) {\n",
              "          const element = document.querySelector('#df-cc38def8-10c6-4710-9cce-1d3fe9599735');\n",
              "          const dataTable =\n",
              "            await google.colab.kernel.invokeFunction('convertToInteractive',\n",
              "                                                     [key], {});\n",
              "          if (!dataTable) return;\n",
              "\n",
              "          const docLinkHtml = 'Like what you see? Visit the ' +\n",
              "            '<a target=\"_blank\" href=https://colab.research.google.com/notebooks/data_table.ipynb>data table notebook</a>'\n",
              "            + ' to learn more about interactive tables.';\n",
              "          element.innerHTML = '';\n",
              "          dataTable['output_type'] = 'display_data';\n",
              "          await google.colab.output.renderOutput(dataTable, element);\n",
              "          const docLink = document.createElement('div');\n",
              "          docLink.innerHTML = docLinkHtml;\n",
              "          element.appendChild(docLink);\n",
              "        }\n",
              "      </script>\n",
              "    </div>\n",
              "  </div>\n",
              "  "
            ]
          },
          "metadata": {},
          "execution_count": 49
        }
      ],
      "source": [
        "dframe=pd.DataFrame({'actual':y_test,'Predicted':y_pred})\n",
        "dframe.tail(10)"
      ]
    },
    {
      "cell_type": "markdown",
      "metadata": {
        "id": "5hbNua1SXMBS"
      },
      "source": [
        "**KNN- K NEAREST NEIGHBOURS**"
      ]
    },
    {
      "cell_type": "code",
      "execution_count": 50,
      "metadata": {
        "colab": {
          "base_uri": "https://localhost:8080/",
          "height": 75
        },
        "id": "5WFhmfilfS_Z",
        "outputId": "967437f6-e482-4e8c-d708-31bdf1a966a3"
      },
      "outputs": [
        {
          "output_type": "execute_result",
          "data": {
            "text/plain": [
              "KNeighborsClassifier(n_neighbors=3)"
            ],
            "text/html": [
              "<style>#sk-container-id-2 {color: black;background-color: white;}#sk-container-id-2 pre{padding: 0;}#sk-container-id-2 div.sk-toggleable {background-color: white;}#sk-container-id-2 label.sk-toggleable__label {cursor: pointer;display: block;width: 100%;margin-bottom: 0;padding: 0.3em;box-sizing: border-box;text-align: center;}#sk-container-id-2 label.sk-toggleable__label-arrow:before {content: \"▸\";float: left;margin-right: 0.25em;color: #696969;}#sk-container-id-2 label.sk-toggleable__label-arrow:hover:before {color: black;}#sk-container-id-2 div.sk-estimator:hover label.sk-toggleable__label-arrow:before {color: black;}#sk-container-id-2 div.sk-toggleable__content {max-height: 0;max-width: 0;overflow: hidden;text-align: left;background-color: #f0f8ff;}#sk-container-id-2 div.sk-toggleable__content pre {margin: 0.2em;color: black;border-radius: 0.25em;background-color: #f0f8ff;}#sk-container-id-2 input.sk-toggleable__control:checked~div.sk-toggleable__content {max-height: 200px;max-width: 100%;overflow: auto;}#sk-container-id-2 input.sk-toggleable__control:checked~label.sk-toggleable__label-arrow:before {content: \"▾\";}#sk-container-id-2 div.sk-estimator input.sk-toggleable__control:checked~label.sk-toggleable__label {background-color: #d4ebff;}#sk-container-id-2 div.sk-label input.sk-toggleable__control:checked~label.sk-toggleable__label {background-color: #d4ebff;}#sk-container-id-2 input.sk-hidden--visually {border: 0;clip: rect(1px 1px 1px 1px);clip: rect(1px, 1px, 1px, 1px);height: 1px;margin: -1px;overflow: hidden;padding: 0;position: absolute;width: 1px;}#sk-container-id-2 div.sk-estimator {font-family: monospace;background-color: #f0f8ff;border: 1px dotted black;border-radius: 0.25em;box-sizing: border-box;margin-bottom: 0.5em;}#sk-container-id-2 div.sk-estimator:hover {background-color: #d4ebff;}#sk-container-id-2 div.sk-parallel-item::after {content: \"\";width: 100%;border-bottom: 1px solid gray;flex-grow: 1;}#sk-container-id-2 div.sk-label:hover label.sk-toggleable__label {background-color: #d4ebff;}#sk-container-id-2 div.sk-serial::before {content: \"\";position: absolute;border-left: 1px solid gray;box-sizing: border-box;top: 0;bottom: 0;left: 50%;z-index: 0;}#sk-container-id-2 div.sk-serial {display: flex;flex-direction: column;align-items: center;background-color: white;padding-right: 0.2em;padding-left: 0.2em;position: relative;}#sk-container-id-2 div.sk-item {position: relative;z-index: 1;}#sk-container-id-2 div.sk-parallel {display: flex;align-items: stretch;justify-content: center;background-color: white;position: relative;}#sk-container-id-2 div.sk-item::before, #sk-container-id-2 div.sk-parallel-item::before {content: \"\";position: absolute;border-left: 1px solid gray;box-sizing: border-box;top: 0;bottom: 0;left: 50%;z-index: -1;}#sk-container-id-2 div.sk-parallel-item {display: flex;flex-direction: column;z-index: 1;position: relative;background-color: white;}#sk-container-id-2 div.sk-parallel-item:first-child::after {align-self: flex-end;width: 50%;}#sk-container-id-2 div.sk-parallel-item:last-child::after {align-self: flex-start;width: 50%;}#sk-container-id-2 div.sk-parallel-item:only-child::after {width: 0;}#sk-container-id-2 div.sk-dashed-wrapped {border: 1px dashed gray;margin: 0 0.4em 0.5em 0.4em;box-sizing: border-box;padding-bottom: 0.4em;background-color: white;}#sk-container-id-2 div.sk-label label {font-family: monospace;font-weight: bold;display: inline-block;line-height: 1.2em;}#sk-container-id-2 div.sk-label-container {text-align: center;}#sk-container-id-2 div.sk-container {/* jupyter's `normalize.less` sets `[hidden] { display: none; }` but bootstrap.min.css set `[hidden] { display: none !important; }` so we also need the `!important` here to be able to override the default hidden behavior on the sphinx rendered scikit-learn.org. See: https://github.com/scikit-learn/scikit-learn/issues/21755 */display: inline-block !important;position: relative;}#sk-container-id-2 div.sk-text-repr-fallback {display: none;}</style><div id=\"sk-container-id-2\" class=\"sk-top-container\"><div class=\"sk-text-repr-fallback\"><pre>KNeighborsClassifier(n_neighbors=3)</pre><b>In a Jupyter environment, please rerun this cell to show the HTML representation or trust the notebook. <br />On GitHub, the HTML representation is unable to render, please try loading this page with nbviewer.org.</b></div><div class=\"sk-container\" hidden><div class=\"sk-item\"><div class=\"sk-estimator sk-toggleable\"><input class=\"sk-toggleable__control sk-hidden--visually\" id=\"sk-estimator-id-2\" type=\"checkbox\" checked><label for=\"sk-estimator-id-2\" class=\"sk-toggleable__label sk-toggleable__label-arrow\">KNeighborsClassifier</label><div class=\"sk-toggleable__content\"><pre>KNeighborsClassifier(n_neighbors=3)</pre></div></div></div></div></div>"
            ]
          },
          "metadata": {},
          "execution_count": 50
        }
      ],
      "source": [
        "from sklearn.neighbors import KNeighborsClassifier\n",
        "classifier = KNeighborsClassifier(n_neighbors = 3, metric = 'minkowski', p = 2)\n",
        "classifier.fit(xtrain, y_train)"
      ]
    },
    {
      "cell_type": "code",
      "execution_count": 51,
      "metadata": {
        "colab": {
          "base_uri": "https://localhost:8080/"
        },
        "id": "-hFMZ2iaPTbP",
        "outputId": "38f21a73-85cc-4b67-feaf-e0ddd198fbc9"
      },
      "outputs": [
        {
          "output_type": "execute_result",
          "data": {
            "text/plain": [
              "array([[22,  5],\n",
              "       [ 2, 13]])"
            ]
          },
          "metadata": {},
          "execution_count": 51
        }
      ],
      "source": [
        "y_pred = classifier.predict(xtest)\n",
        "from sklearn.metrics import confusion_matrix, accuracy_score\n",
        "confusion_matrix(y_test, y_pred)"
      ]
    },
    {
      "cell_type": "code",
      "execution_count": 52,
      "metadata": {
        "colab": {
          "base_uri": "https://localhost:8080/"
        },
        "id": "qFppCPOsQOVf",
        "outputId": "3245e297-14e7-4372-9118-db56a59bed1e"
      },
      "outputs": [
        {
          "output_type": "stream",
          "name": "stdout",
          "text": [
            "83.33333333333334\n"
          ]
        }
      ],
      "source": [
        "acc2= accuracy_score(y_test, y_pred)*100\n",
        "print(acc2)\n",
        "# acc2= int(acc2)"
      ]
    },
    {
      "cell_type": "code",
      "execution_count": 52,
      "metadata": {
        "id": "vO1CG-Pyf0jv"
      },
      "outputs": [],
      "source": []
    },
    {
      "cell_type": "markdown",
      "metadata": {
        "id": "WolEgAURXpnZ"
      },
      "source": [
        "**DECISION TREE CLASSIFIER**"
      ]
    },
    {
      "cell_type": "code",
      "execution_count": 53,
      "metadata": {
        "colab": {
          "base_uri": "https://localhost:8080/",
          "height": 75
        },
        "id": "aBrKHGXRTICH",
        "outputId": "4841a7c5-304e-482c-f0b0-b2125f52f296"
      },
      "outputs": [
        {
          "output_type": "execute_result",
          "data": {
            "text/plain": [
              "DecisionTreeClassifier(criterion='entropy', random_state=0)"
            ],
            "text/html": [
              "<style>#sk-container-id-3 {color: black;background-color: white;}#sk-container-id-3 pre{padding: 0;}#sk-container-id-3 div.sk-toggleable {background-color: white;}#sk-container-id-3 label.sk-toggleable__label {cursor: pointer;display: block;width: 100%;margin-bottom: 0;padding: 0.3em;box-sizing: border-box;text-align: center;}#sk-container-id-3 label.sk-toggleable__label-arrow:before {content: \"▸\";float: left;margin-right: 0.25em;color: #696969;}#sk-container-id-3 label.sk-toggleable__label-arrow:hover:before {color: black;}#sk-container-id-3 div.sk-estimator:hover label.sk-toggleable__label-arrow:before {color: black;}#sk-container-id-3 div.sk-toggleable__content {max-height: 0;max-width: 0;overflow: hidden;text-align: left;background-color: #f0f8ff;}#sk-container-id-3 div.sk-toggleable__content pre {margin: 0.2em;color: black;border-radius: 0.25em;background-color: #f0f8ff;}#sk-container-id-3 input.sk-toggleable__control:checked~div.sk-toggleable__content {max-height: 200px;max-width: 100%;overflow: auto;}#sk-container-id-3 input.sk-toggleable__control:checked~label.sk-toggleable__label-arrow:before {content: \"▾\";}#sk-container-id-3 div.sk-estimator input.sk-toggleable__control:checked~label.sk-toggleable__label {background-color: #d4ebff;}#sk-container-id-3 div.sk-label input.sk-toggleable__control:checked~label.sk-toggleable__label {background-color: #d4ebff;}#sk-container-id-3 input.sk-hidden--visually {border: 0;clip: rect(1px 1px 1px 1px);clip: rect(1px, 1px, 1px, 1px);height: 1px;margin: -1px;overflow: hidden;padding: 0;position: absolute;width: 1px;}#sk-container-id-3 div.sk-estimator {font-family: monospace;background-color: #f0f8ff;border: 1px dotted black;border-radius: 0.25em;box-sizing: border-box;margin-bottom: 0.5em;}#sk-container-id-3 div.sk-estimator:hover {background-color: #d4ebff;}#sk-container-id-3 div.sk-parallel-item::after {content: \"\";width: 100%;border-bottom: 1px solid gray;flex-grow: 1;}#sk-container-id-3 div.sk-label:hover label.sk-toggleable__label {background-color: #d4ebff;}#sk-container-id-3 div.sk-serial::before {content: \"\";position: absolute;border-left: 1px solid gray;box-sizing: border-box;top: 0;bottom: 0;left: 50%;z-index: 0;}#sk-container-id-3 div.sk-serial {display: flex;flex-direction: column;align-items: center;background-color: white;padding-right: 0.2em;padding-left: 0.2em;position: relative;}#sk-container-id-3 div.sk-item {position: relative;z-index: 1;}#sk-container-id-3 div.sk-parallel {display: flex;align-items: stretch;justify-content: center;background-color: white;position: relative;}#sk-container-id-3 div.sk-item::before, #sk-container-id-3 div.sk-parallel-item::before {content: \"\";position: absolute;border-left: 1px solid gray;box-sizing: border-box;top: 0;bottom: 0;left: 50%;z-index: -1;}#sk-container-id-3 div.sk-parallel-item {display: flex;flex-direction: column;z-index: 1;position: relative;background-color: white;}#sk-container-id-3 div.sk-parallel-item:first-child::after {align-self: flex-end;width: 50%;}#sk-container-id-3 div.sk-parallel-item:last-child::after {align-self: flex-start;width: 50%;}#sk-container-id-3 div.sk-parallel-item:only-child::after {width: 0;}#sk-container-id-3 div.sk-dashed-wrapped {border: 1px dashed gray;margin: 0 0.4em 0.5em 0.4em;box-sizing: border-box;padding-bottom: 0.4em;background-color: white;}#sk-container-id-3 div.sk-label label {font-family: monospace;font-weight: bold;display: inline-block;line-height: 1.2em;}#sk-container-id-3 div.sk-label-container {text-align: center;}#sk-container-id-3 div.sk-container {/* jupyter's `normalize.less` sets `[hidden] { display: none; }` but bootstrap.min.css set `[hidden] { display: none !important; }` so we also need the `!important` here to be able to override the default hidden behavior on the sphinx rendered scikit-learn.org. See: https://github.com/scikit-learn/scikit-learn/issues/21755 */display: inline-block !important;position: relative;}#sk-container-id-3 div.sk-text-repr-fallback {display: none;}</style><div id=\"sk-container-id-3\" class=\"sk-top-container\"><div class=\"sk-text-repr-fallback\"><pre>DecisionTreeClassifier(criterion=&#x27;entropy&#x27;, random_state=0)</pre><b>In a Jupyter environment, please rerun this cell to show the HTML representation or trust the notebook. <br />On GitHub, the HTML representation is unable to render, please try loading this page with nbviewer.org.</b></div><div class=\"sk-container\" hidden><div class=\"sk-item\"><div class=\"sk-estimator sk-toggleable\"><input class=\"sk-toggleable__control sk-hidden--visually\" id=\"sk-estimator-id-3\" type=\"checkbox\" checked><label for=\"sk-estimator-id-3\" class=\"sk-toggleable__label sk-toggleable__label-arrow\">DecisionTreeClassifier</label><div class=\"sk-toggleable__content\"><pre>DecisionTreeClassifier(criterion=&#x27;entropy&#x27;, random_state=0)</pre></div></div></div></div></div>"
            ]
          },
          "metadata": {},
          "execution_count": 53
        }
      ],
      "source": [
        "from sklearn.tree import DecisionTreeClassifier\n",
        "classifier = DecisionTreeClassifier(criterion = \"entropy\", random_state=0)\n",
        "classifier.fit(xtrain, y_train)"
      ]
    },
    {
      "cell_type": "code",
      "execution_count": 54,
      "metadata": {
        "id": "MFQrjb6QTILY"
      },
      "outputs": [],
      "source": [
        "y_pred = classifier.predict(xtest)"
      ]
    },
    {
      "cell_type": "code",
      "execution_count": 55,
      "metadata": {
        "colab": {
          "base_uri": "https://localhost:8080/"
        },
        "id": "rNFp6TMrTITd",
        "outputId": "094f172d-d3cc-4995-be75-7acd1759064b"
      },
      "outputs": [
        {
          "output_type": "stream",
          "name": "stdout",
          "text": [
            "[[25  2]\n",
            " [ 0 15]]\n",
            "Accuracy score: 95.23809523809523\n"
          ]
        }
      ],
      "source": [
        "from sklearn import metrics\n",
        "cm = metrics.confusion_matrix(y_test, y_pred) \n",
        "print(cm)\n",
        "accuracy = metrics.accuracy_score(y_test, y_pred) \n",
        "acc3= accuracy*100\n",
        "print(\"Accuracy score:\",acc3)\n",
        "# acc3= int(acc3)"
      ]
    },
    {
      "cell_type": "code",
      "execution_count": 56,
      "metadata": {
        "id": "kaXtkazX-zSd"
      },
      "outputs": [],
      "source": [
        "# dframe=pd.DataFrame({'actual':y_test,'Predicted':y_pred})\n",
        "# dframe.head(40)"
      ]
    },
    {
      "cell_type": "markdown",
      "metadata": {
        "id": "uYkUThHjVq9I"
      },
      "source": [
        "**Logistic Regression**\n"
      ]
    },
    {
      "cell_type": "code",
      "execution_count": 57,
      "metadata": {
        "colab": {
          "base_uri": "https://localhost:8080/"
        },
        "id": "iovT7ufhcR8l",
        "outputId": "2a9e57d0-21b6-4773-9996-c97759c21cc7"
      },
      "outputs": [
        {
          "output_type": "stream",
          "name": "stdout",
          "text": [
            "Accuracy of Logistic Regression: 88.09523809523809\n"
          ]
        }
      ],
      "source": [
        "from sklearn.linear_model import LogisticRegression\n",
        "lr = LogisticRegression()\n",
        "lr.fit(xtrain, y_train)\n",
        "lr_predict = lr.predict(xtest)\n",
        "lr_acc_score = accuracy_score(y_test, lr_predict)\n",
        "acc4= lr_acc_score*100\n",
        "print(\"Accuracy of Logistic Regression:\",acc4)\n",
        "# acc4= int(acc4)"
      ]
    },
    {
      "cell_type": "code",
      "execution_count": 58,
      "metadata": {
        "colab": {
          "base_uri": "https://localhost:8080/"
        },
        "id": "as3ohOZadc6I",
        "outputId": "b91ff3f4-165f-45bb-c5dd-ac58ece7f895"
      },
      "outputs": [
        {
          "output_type": "stream",
          "name": "stdout",
          "text": [
            "[[22  5]\n",
            " [ 0 15]]\n"
          ]
        }
      ],
      "source": [
        "lr_conf_matrix = confusion_matrix(y_test, lr_predict)\n",
        "print(lr_conf_matrix)"
      ]
    },
    {
      "cell_type": "code",
      "execution_count": 59,
      "metadata": {
        "colab": {
          "base_uri": "https://localhost:8080/",
          "height": 489
        },
        "id": "rlSigfeJQhOP",
        "outputId": "276788be-b635-4d2a-fbf4-9e80d82095d6"
      },
      "outputs": [
        {
          "output_type": "execute_result",
          "data": {
            "text/plain": [
              "<Axes: title={'center': 'Comparision of Models'}, xlabel='Model'>"
            ]
          },
          "metadata": {},
          "execution_count": 59
        },
        {
          "output_type": "display_data",
          "data": {
            "text/plain": [
              "<Figure size 640x480 with 1 Axes>"
            ],
            "image/png": "[encoded data removed]"
          },
          "metadata": {}
        }
      ],
      "source": [
        "info = [['svc_model', 'knn', 'dtc', 'lgr'],[acc1,acc2,acc3,acc4]]\n",
        "df = pd.DataFrame(columns=['Model', 'Accuracy'])\n",
        "for i in range(4):\n",
        "  df.loc[i] = [info[0][i],info[1][i]]\n",
        "df.plot.bar(x=\"Model\", y=\"Accuracy\",title=\"Comparision of Models\", rot = 0)"
      ]
    },
    {
      "cell_type": "markdown",
      "metadata": {
        "id": "mo8zwMlWh3kG"
      },
      "source": [
        "**Cross Validation using KFold**"
      ]
    },
    {
      "cell_type": "code",
      "execution_count": 60,
      "metadata": {
        "id": "vKTYcgnwewy8"
      },
      "outputs": [],
      "source": [
        "\n",
        "from sklearn.model_selection import KFold"
      ]
    },
    {
      "cell_type": "code",
      "execution_count": 61,
      "metadata": {
        "colab": {
          "base_uri": "https://localhost:8080/"
        },
        "id": "smnN_GBFew_a",
        "outputId": "c8c9e471-a2fb-49eb-fe06-688e69e4a51c"
      },
      "outputs": [
        {
          "output_type": "stream",
          "name": "stdout",
          "text": [
            "Fold:1, Train set: 165, Test set:42\n",
            "Fold:2, Train set: 165, Test set:42\n",
            "Fold:3, Train set: 166, Test set:41\n",
            "Fold:4, Train set: 166, Test set:41\n",
            "Fold:5, Train set: 166, Test set:41\n"
          ]
        }
      ],
      "source": [
        "kf =KFold(n_splits=5, shuffle=True, random_state=42)\n",
        "\n",
        "cnt = 1\n",
        "\n",
        "for train_index, test_index in kf.split(X, y):\n",
        "    print(f'Fold:{cnt}, Train set: {len(train_index)}, Test set:{len(test_index)}')\n",
        "    cnt += 1\n",
        "   \n"
      ]
    },
    {
      "cell_type": "code",
      "execution_count": 62,
      "metadata": {
        "colab": {
          "base_uri": "https://localhost:8080/"
        },
        "id": "exaHtMZmg1-w",
        "outputId": "bd3bd25a-5b8b-4c9a-8e21-2c0924fb0afe"
      },
      "outputs": [
        {
          "output_type": "execute_result",
          "data": {
            "text/plain": [
              "(4, 2)"
            ]
          },
          "metadata": {},
          "execution_count": 62
        }
      ],
      "source": [
        "df.shape\n"
      ]
    },
    {
      "cell_type": "markdown",
      "metadata": {
        "id": "J_soJ1_V5WGm"
      },
      "source": [
        "**Cross Validation- SVC**"
      ]
    },
    {
      "cell_type": "code",
      "execution_count": 63,
      "metadata": {
        "colab": {
          "base_uri": "https://localhost:8080/"
        },
        "id": "WvGuCxPH4zkP",
        "outputId": "22ed73df-4afd-4c5f-dcb4-460fe8a76517"
      },
      "outputs": [
        {
          "output_type": "stream",
          "name": "stdout",
          "text": [
            "Mean accuracy score: 86.46\n"
          ]
        }
      ],
      "source": [
        "from sklearn.model_selection import cross_val_score, KFold\n",
        "from sklearn.svm import SVC\n",
        "\n",
        "svm_classifier = SVC(kernel='linear')\n",
        "kfold = KFold(n_splits=5, shuffle=True, random_state=42)\n",
        "scores = cross_val_score(svm_classifier, X, y, cv=kfold, scoring='accuracy')\n",
        "\n",
        "# print(f\"Cross-validation scores: {scores}\")\n",
        "print(f\"Mean accuracy score: {(scores.mean())*100:.2f}\")"
      ]
    },
    {
      "cell_type": "markdown",
      "metadata": {
        "id": "ahC-GFXe9CJU"
      },
      "source": [
        "**Cross Validation - KNN**"
      ]
    },
    {
      "cell_type": "code",
      "execution_count": 64,
      "metadata": {
        "colab": {
          "base_uri": "https://localhost:8080/"
        },
        "id": "aucp8Mwk0W5J",
        "outputId": "561023f3-acef-453a-b1c0-9c3446ee32a6"
      },
      "outputs": [
        {
          "output_type": "stream",
          "name": "stdout",
          "text": [
            "Mean accuracy score: 80.20\n"
          ]
        }
      ],
      "source": [
        "knn = KNeighborsClassifier()\n",
        "kf = KFold(n_splits=5, shuffle=True, random_state=42)\n",
        "score=cross_val_score(knn,X,y,cv=kf, scoring='accuracy')\n",
        "# print(\"Cross Validation Scores are {}\".format(score))\n",
        "print(f\"Mean accuracy score: {(score.mean())*100:.2f}\")"
      ]
    },
    {
      "cell_type": "markdown",
      "metadata": {
        "id": "_gxEzDlh9HJk"
      },
      "source": [
        "**Cross Validation- Decision Tree**"
      ]
    },
    {
      "cell_type": "code",
      "execution_count": 65,
      "metadata": {
        "colab": {
          "base_uri": "https://localhost:8080/"
        },
        "id": "7XO-V82d0Ybv",
        "outputId": "b82b5a64-a309-49ca-d4af-37fadeb22619"
      },
      "outputs": [
        {
          "output_type": "stream",
          "name": "stdout",
          "text": [
            "Mean accuracy score: 98.07\n"
          ]
        }
      ],
      "source": [
        "from sklearn.model_selection import cross_val_score, KFold\n",
        "from sklearn.tree import DecisionTreeClassifier\n",
        "\n",
        "dtc = DecisionTreeClassifier()\n",
        "kfold = KFold(n_splits=5, shuffle=True, random_state=42)\n",
        "scores = cross_val_score(dtc, X, y, cv=kfold, scoring='accuracy')\n",
        "\n",
        "# print(f\"Cross-validation scores: {scores}\")\n",
        "print(f\"Mean accuracy score: {(scores.mean())*100:.2f}\")"
      ]
    },
    {
      "cell_type": "markdown",
      "metadata": {
        "id": "spD0rBYF9OyB"
      },
      "source": [
        "**Cross Validation- Logistic regression**"
      ]
    },
    {
      "cell_type": "code",
      "execution_count": 66,
      "metadata": {
        "colab": {
          "base_uri": "https://localhost:8080/"
        },
        "id": "ch7lmP900ZKo",
        "outputId": "56366d6e-b93f-4fb0-ffac-ed37140bb609"
      },
      "outputs": [
        {
          "output_type": "stream",
          "name": "stdout",
          "text": [
            "Mean accuracy score: 88.85\n"
          ]
        }
      ],
      "source": [
        "from sklearn.linear_model import LogisticRegression\n",
        "lgr = LogisticRegression(max_iter=1000)\n",
        "kf = KFold(n_splits=5, shuffle=True, random_state=42)\n",
        "score=cross_val_score(lgr,X,y,cv=kf, scoring='accuracy')\n",
        "\n",
        "# print(\"Cross Validation Scores are {}\".format(score))\n",
        "print(f\"Mean accuracy score: {(score.mean())*100:.2f}\")"
      ]
    },
    {
      "cell_type": "code",
      "execution_count": 67,
      "metadata": {
        "id": "RouleBd77o5-"
      },
      "outputs": [],
      "source": [
        "# dframe=pd.DataFrame({'actual':y_test,'Predicted':y_pred})\n",
        "# dframe.head(40)"
      ]
    },
    {
      "cell_type": "code",
      "execution_count": 67,
      "metadata": {
        "id": "h3Yc4a3VQMrx"
      },
      "outputs": [],
      "source": []
    },
    {
      "cell_type": "markdown",
      "metadata": {
        "id": "hLPqP_Z3cvxl"
      },
      "source": [
        "**DEPLOYEMENT**"
      ]
    },
    {
      "cell_type": "code",
      "execution_count": 68,
      "metadata": {
        "id": "z9KdtzhVt9wm"
      },
      "outputs": [],
      "source": [
        "import gradio as gr\n",
        "import pickle"
      ]
    },
    {
      "cell_type": "code",
      "execution_count": 69,
      "metadata": {
        "id": "k6FSjfNVt94V"
      },
      "outputs": [],
      "source": [
        "import warnings\n",
        "warnings.filterwarnings('ignore')"
      ]
    },
    {
      "cell_type": "code",
      "execution_count": 70,
      "metadata": {
        "colab": {
          "base_uri": "https://localhost:8080/",
          "height": 616
        },
        "id": "FCZwe0cZF-rb",
        "outputId": "73c9a720-4590-40cb-a7ff-09e6b8f4f97a"
      },
      "outputs": [
        {
          "output_type": "stream",
          "name": "stdout",
          "text": [
            "Colab notebook detected. To show errors in colab notebook, set debug=True in launch()\n",
            "Note: opening Chrome Inspector may crash demo inside Colab notebooks.\n",
            "\n",
            "To create a public link, set `share=True` in `launch()`.\n"
          ]
        },
        {
          "output_type": "display_data",
          "data": {
            "text/plain": [
              "<IPython.core.display.Javascript object>"
            ],
            "application/javascript": [
              "(async (port, path, width, height, cache, element) => {\n",
              "                        if (!google.colab.kernel.accessAllowed && !cache) {\n",
              "                            return;\n",
              "                        }\n",
              "                        element.appendChild(document.createTextNode(''));\n",
              "                        const url = await google.colab.kernel.proxyPort(port, {cache});\n",
              "\n",
              "                        const external_link = document.createElement('div');\n",
              "                        external_link.innerHTML = `\n",
              "                            <div style=\"font-family: monospace; margin-bottom: 0.5rem\">\n",
              "                                Running on <a href=${new URL(path, url).toString()} target=\"_blank\">\n",
              "                                    https://localhost:${port}${path}\n",
              "                                </a>\n",
              "                            </div>\n",
              "                        `;\n",
              "                        element.appendChild(external_link);\n",
              "\n",
              "                        const iframe = document.createElement('iframe');\n",
              "                        iframe.src = new URL(path, url).toString();\n",
              "                        iframe.height = height;\n",
              "                        iframe.allow = \"autoplay; camera; microphone; clipboard-read; clipboard-write;\"\n",
              "                        iframe.width = width;\n",
              "                        iframe.style.border = 0;\n",
              "                        element.appendChild(iframe);\n",
              "                    })(7860, \"/\", \"100%\", 500, false, window.element)"
            ]
          },
          "metadata": {}
        },
        {
          "output_type": "execute_result",
          "data": {
            "text/plain": []
          },
          "metadata": {},
          "execution_count": 70
        }
      ],
      "source": [
        "def prediction(Age,Occupation,Gender,Same_office_home_location,kids,RM_save_money,RM_quality_time,RM_better_sleep,calmer_stressed,RM_professional_growth,RM_lazy,RM_productive,digital_connect_sufficient,RM_better_work_life_balance, RM_improved_skillset, RM_job_opportunities):\n",
        "  x=np.array([Age,Occupation,Gender,Same_office_home_location,kids,RM_save_money,RM_quality_time,RM_better_sleep,calmer_stressed,RM_professional_growth,RM_lazy,RM_productive,digital_connect_sufficient,RM_better_work_life_balance, RM_improved_skillset, RM_job_opportunities])\n",
        "  x =((x-X_train.mean())/(X_train.std()))\n",
        "  outcome = svc_model.predict([x])\n",
        "  if outcome==0:\n",
        "    return \"Work from office\"\n",
        "  else:\n",
        "    return \"Work from home\"\n",
        "output = gr.outputs.Textbox()\n",
        "demo=gr.Interface(fn=prediction,inputs=[\"number\",\"number\",\"number\",\"number\",\"number\",\"number\",\"number\",\"number\",\"number\",\"number\",\"number\",\"number\",\"number\",\"number\",\"number\",\"number\"],outputs=output, title = \"WFO vs WFH Prediction\", \n",
        "                  description = \"\"\"<center>\n",
        "                                   <img src=\"https://media.licdn.com/dms/image/C5612AQEYR8XASgZiNQ/article-cover_image-shrink_720_1280/0/1590647828313?e=2147483647&v=beta&t=rpkBjww7FcFMw8nVp80INk7ngclD1XSRAp6sCExHyZM\" style=\"max-width: 700px\">\n",
        "                                    </center><br>\n",
        "                                    <b>Occupation :</b> Business= 0, Engineer= 1, HR= 2, Manager= 3, Marketing= 4, Recruiter= 5, Tutor= 6<br>\n",
        "                                    <b>Gender :</b> Female = 0, Male = 1<br>\n",
        "                                    <b>Calmer or stressed :</b> Calmer= 0, Stressed= 1<br>\n",
        "                                    <b>RM_Job_Oppurtunities :</b> No= 0, Not sure= 1, Yes= 2<br>\n",
        "                                    <b>RM_professional_growth :</b> 5-yes it's affecting me badly, 1- No it doesn't affect me<br>\n",
        "                                    <b>RM_lazy :</b> (5-extremely lazy, 1-Nope, not lazy at all)<br>\n",
        "                                    <b>RM_productive :</b> (1-not productive at all, 5-extremely productive)<br>\n",
        "                                    <b>RM_better_work_life_balance :</b> (1-No not at all, 5-Yessssssss)<br>\n",
        "                                    <b>RM_improved_skillset :</b> (skillset with respect to your work domain, 1:Not improved, 5:Improved drastically)<br>\n",
        "                                    <b>Rest all :</b> No= 0, Yes= 1<br>\"\"\")\n",
        "demo.launch(debug = False)"
      ]
    },
    {
      "cell_type": "code",
      "execution_count": 70,
      "metadata": {
        "id": "cm4qIQSeBejU"
      },
      "outputs": [],
      "source": []
    }
  ],
  "metadata": {
    "colab": {
      "provenance": []
    },
    "kernelspec": {
      "display_name": "Python 3",
      "name": "python3"
    },
    "language_info": {
      "name": "python"
    }
  },
  "nbformat": 4,
  "nbformat_minor": 0
}